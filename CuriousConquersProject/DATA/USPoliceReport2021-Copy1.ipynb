{
 "cells": [
  {
   "cell_type": "code",
   "execution_count": 48,
   "id": "7898d124-da12-4718-8cd2-df6b879c0048",
   "metadata": {},
   "outputs": [],
   "source": [
    "import numpy as np\n",
    "import pandas as pd\n",
    "import seaborn as sns\n",
    "import scipy\n",
    "from scipy.stats import norm\n",
    "from scipy import stats\n",
    "from statsmodels.stats.proportion import proportions_ztest\n",
    "from statsmodels.stats.multicomp import pairwise_tukeyhsd\n",
    "from statsmodels.stats.multicomp import MultiComparison"
   ]
  },
  {
   "cell_type": "code",
   "execution_count": 49,
   "id": "d8256d3c-6e4f-422c-af45-e79e486f43cd",
   "metadata": {},
   "outputs": [],
   "source": [
    "USpolice20 = pd.read_excel(\"New/USDATA/KnownUSincedents2020/Table_8_Offenses_Known_to_Law_Enforcement_by_State_by_City_2020.xlsx\")"
   ]
  },
  {
   "cell_type": "markdown",
   "id": "6b6437e6-aa59-4390-b01a-bcdcb0954031",
   "metadata": {},
   "source": [
    "## Offenses Known to Law Enforcement\n",
    "#### by State by City, 2020"
   ]
  },
  {
   "cell_type": "code",
   "execution_count": 50,
   "id": "5143178e-eca8-498f-a245-7b0779e5235c",
   "metadata": {},
   "outputs": [],
   "source": [
    "USpolice20.drop([0,1,2,3,4,7694,7695,7696,7697,7698,7699,7700,7701,7702],inplace=True)"
   ]
  },
  {
   "cell_type": "code",
   "execution_count": 51,
   "id": "e1900963-9fe9-4e32-8dbb-e7c6557aec08",
   "metadata": {},
   "outputs": [],
   "source": [
    "USpolice20.rename(columns={\"Table 8\":\"State\",\"Unnamed: 1\":\"City\",\"Unnamed: 2\":\"Population\",\"Unnamed: 3\":\"ViolentCrime\",\"Unnamed: 4\":\"MurderNonnegligentManslaughter\",\n",
    "\"Unnamed: 5\":\"Rape\",\"Unnamed: 6\":\"Robbery\",\"Unnamed: 7\":\"AggravatedAssault\",\"Unnamed: 8\":\"PropertyCrime\",\"Unnamed: 9\":\"Burglary\",\"Unnamed: 10\":\"Larcenytheft\",\"Unnamed: 11\":\"Motor\\nvehicle\\ntheft\",\"Unnamed: 12\":\"Arson\"},inplace=True)\n"
   ]
  },
  {
   "cell_type": "code",
   "execution_count": 68,
   "id": "72138a1c-68bd-4a2c-88de-8407befb0f0a",
   "metadata": {},
   "outputs": [],
   "source": [
    "USpolice20.dropna(inplace=True)"
   ]
  },
  {
   "cell_type": "code",
   "execution_count": 69,
   "id": "d9a7e712-5f1a-4dee-9742-3416ae6f01ea",
   "metadata": {},
   "outputs": [
    {
     "data": {
      "text/html": [
       "<div>\n",
       "<style scoped>\n",
       "    .dataframe tbody tr th:only-of-type {\n",
       "        vertical-align: middle;\n",
       "    }\n",
       "\n",
       "    .dataframe tbody tr th {\n",
       "        vertical-align: top;\n",
       "    }\n",
       "\n",
       "    .dataframe thead th {\n",
       "        text-align: right;\n",
       "    }\n",
       "</style>\n",
       "<table border=\"1\" class=\"dataframe\">\n",
       "  <thead>\n",
       "    <tr style=\"text-align: right;\">\n",
       "      <th></th>\n",
       "      <th>State</th>\n",
       "      <th>City</th>\n",
       "      <th>Population</th>\n",
       "      <th>ViolentCrime</th>\n",
       "      <th>MurderNonnegligentManslaughter</th>\n",
       "      <th>Rape</th>\n",
       "      <th>Robbery</th>\n",
       "      <th>AggravatedAssault</th>\n",
       "      <th>PropertyCrime</th>\n",
       "      <th>Burglary</th>\n",
       "      <th>Larcenytheft</th>\n",
       "      <th>Motor\\nvehicle\\ntheft</th>\n",
       "      <th>Arson</th>\n",
       "    </tr>\n",
       "  </thead>\n",
       "  <tbody>\n",
       "    <tr>\n",
       "      <th>23</th>\n",
       "      <td>Alaska</td>\n",
       "      <td>Anchorage</td>\n",
       "      <td>286388</td>\n",
       "      <td>3472</td>\n",
       "      <td>18</td>\n",
       "      <td>558</td>\n",
       "      <td>558</td>\n",
       "      <td>2338</td>\n",
       "      <td>9872</td>\n",
       "      <td>1444</td>\n",
       "      <td>7279</td>\n",
       "      <td>1149</td>\n",
       "      <td>73</td>\n",
       "    </tr>\n",
       "    <tr>\n",
       "      <th>24</th>\n",
       "      <td>Alaska</td>\n",
       "      <td>Bethel</td>\n",
       "      <td>6642</td>\n",
       "      <td>93</td>\n",
       "      <td>0</td>\n",
       "      <td>43</td>\n",
       "      <td>2</td>\n",
       "      <td>48</td>\n",
       "      <td>71</td>\n",
       "      <td>21</td>\n",
       "      <td>35</td>\n",
       "      <td>15</td>\n",
       "      <td>5</td>\n",
       "    </tr>\n",
       "    <tr>\n",
       "      <th>25</th>\n",
       "      <td>Alaska</td>\n",
       "      <td>Bristol Bay Borough</td>\n",
       "      <td>817</td>\n",
       "      <td>4</td>\n",
       "      <td>0</td>\n",
       "      <td>0</td>\n",
       "      <td>0</td>\n",
       "      <td>4</td>\n",
       "      <td>9</td>\n",
       "      <td>5</td>\n",
       "      <td>0</td>\n",
       "      <td>4</td>\n",
       "      <td>0</td>\n",
       "    </tr>\n",
       "    <tr>\n",
       "      <th>26</th>\n",
       "      <td>Alaska</td>\n",
       "      <td>Cordova</td>\n",
       "      <td>2161</td>\n",
       "      <td>0</td>\n",
       "      <td>0</td>\n",
       "      <td>0</td>\n",
       "      <td>0</td>\n",
       "      <td>0</td>\n",
       "      <td>6</td>\n",
       "      <td>3</td>\n",
       "      <td>3</td>\n",
       "      <td>0</td>\n",
       "      <td>1</td>\n",
       "    </tr>\n",
       "    <tr>\n",
       "      <th>27</th>\n",
       "      <td>Alaska</td>\n",
       "      <td>Craig</td>\n",
       "      <td>1268</td>\n",
       "      <td>3</td>\n",
       "      <td>0</td>\n",
       "      <td>0</td>\n",
       "      <td>0</td>\n",
       "      <td>3</td>\n",
       "      <td>12</td>\n",
       "      <td>2</td>\n",
       "      <td>10</td>\n",
       "      <td>0</td>\n",
       "      <td>1</td>\n",
       "    </tr>\n",
       "    <tr>\n",
       "      <th>...</th>\n",
       "      <td>...</td>\n",
       "      <td>...</td>\n",
       "      <td>...</td>\n",
       "      <td>...</td>\n",
       "      <td>...</td>\n",
       "      <td>...</td>\n",
       "      <td>...</td>\n",
       "      <td>...</td>\n",
       "      <td>...</td>\n",
       "      <td>...</td>\n",
       "      <td>...</td>\n",
       "      <td>...</td>\n",
       "      <td>...</td>\n",
       "    </tr>\n",
       "    <tr>\n",
       "      <th>7689</th>\n",
       "      <td>Wyoming</td>\n",
       "      <td>Sheridan4</td>\n",
       "      <td>17991</td>\n",
       "      <td>16</td>\n",
       "      <td>0</td>\n",
       "      <td>2</td>\n",
       "      <td>0</td>\n",
       "      <td>14</td>\n",
       "      <td>264</td>\n",
       "      <td>32</td>\n",
       "      <td>217</td>\n",
       "      <td>15</td>\n",
       "      <td>2</td>\n",
       "    </tr>\n",
       "    <tr>\n",
       "      <th>7690</th>\n",
       "      <td>Wyoming</td>\n",
       "      <td>Thermopolis4</td>\n",
       "      <td>2738</td>\n",
       "      <td>3</td>\n",
       "      <td>0</td>\n",
       "      <td>1</td>\n",
       "      <td>0</td>\n",
       "      <td>2</td>\n",
       "      <td>40</td>\n",
       "      <td>5</td>\n",
       "      <td>34</td>\n",
       "      <td>1</td>\n",
       "      <td>0</td>\n",
       "    </tr>\n",
       "    <tr>\n",
       "      <th>7691</th>\n",
       "      <td>Wyoming</td>\n",
       "      <td>Torrington</td>\n",
       "      <td>6623</td>\n",
       "      <td>32</td>\n",
       "      <td>0</td>\n",
       "      <td>7</td>\n",
       "      <td>0</td>\n",
       "      <td>25</td>\n",
       "      <td>77</td>\n",
       "      <td>7</td>\n",
       "      <td>69</td>\n",
       "      <td>1</td>\n",
       "      <td>0</td>\n",
       "    </tr>\n",
       "    <tr>\n",
       "      <th>7692</th>\n",
       "      <td>Wyoming</td>\n",
       "      <td>Wheatland</td>\n",
       "      <td>3445</td>\n",
       "      <td>6</td>\n",
       "      <td>0</td>\n",
       "      <td>0</td>\n",
       "      <td>0</td>\n",
       "      <td>6</td>\n",
       "      <td>80</td>\n",
       "      <td>22</td>\n",
       "      <td>50</td>\n",
       "      <td>8</td>\n",
       "      <td>0</td>\n",
       "    </tr>\n",
       "    <tr>\n",
       "      <th>7693</th>\n",
       "      <td>Wyoming</td>\n",
       "      <td>Worland4</td>\n",
       "      <td>4975</td>\n",
       "      <td>6</td>\n",
       "      <td>0</td>\n",
       "      <td>1</td>\n",
       "      <td>0</td>\n",
       "      <td>5</td>\n",
       "      <td>29</td>\n",
       "      <td>4</td>\n",
       "      <td>23</td>\n",
       "      <td>2</td>\n",
       "      <td>0</td>\n",
       "    </tr>\n",
       "  </tbody>\n",
       "</table>\n",
       "<p>7145 rows × 13 columns</p>\n",
       "</div>"
      ],
      "text/plain": [
       "        State                 City Population ViolentCrime  \\\n",
       "23     Alaska            Anchorage     286388         3472   \n",
       "24     Alaska               Bethel       6642           93   \n",
       "25     Alaska  Bristol Bay Borough        817            4   \n",
       "26     Alaska              Cordova       2161            0   \n",
       "27     Alaska                Craig       1268            3   \n",
       "...       ...                  ...        ...          ...   \n",
       "7689  Wyoming            Sheridan4      17991           16   \n",
       "7690  Wyoming         Thermopolis4       2738            3   \n",
       "7691  Wyoming           Torrington       6623           32   \n",
       "7692  Wyoming            Wheatland       3445            6   \n",
       "7693  Wyoming             Worland4       4975            6   \n",
       "\n",
       "     MurderNonnegligentManslaughter Rape Robbery AggravatedAssault  \\\n",
       "23                               18  558     558              2338   \n",
       "24                                0   43       2                48   \n",
       "25                                0    0       0                 4   \n",
       "26                                0    0       0                 0   \n",
       "27                                0    0       0                 3   \n",
       "...                             ...  ...     ...               ...   \n",
       "7689                              0    2       0                14   \n",
       "7690                              0    1       0                 2   \n",
       "7691                              0    7       0                25   \n",
       "7692                              0    0       0                 6   \n",
       "7693                              0    1       0                 5   \n",
       "\n",
       "     PropertyCrime Burglary Larcenytheft Motor\\nvehicle\\ntheft Arson  \n",
       "23            9872     1444         7279                  1149    73  \n",
       "24              71       21           35                    15     5  \n",
       "25               9        5            0                     4     0  \n",
       "26               6        3            3                     0     1  \n",
       "27              12        2           10                     0     1  \n",
       "...            ...      ...          ...                   ...   ...  \n",
       "7689           264       32          217                    15     2  \n",
       "7690            40        5           34                     1     0  \n",
       "7691            77        7           69                     1     0  \n",
       "7692            80       22           50                     8     0  \n",
       "7693            29        4           23                     2     0  \n",
       "\n",
       "[7145 rows x 13 columns]"
      ]
     },
     "execution_count": 69,
     "metadata": {},
     "output_type": "execute_result"
    }
   ],
   "source": [
    "USpolice20"
   ]
  },
  {
   "cell_type": "code",
   "execution_count": 88,
   "id": "3fd7e6e8-56eb-45fe-8fe3-2111c53e62ec",
   "metadata": {},
   "outputs": [
    {
     "name": "stderr",
     "output_type": "stream",
     "text": [
      "C:\\Users\\dell\\AppData\\Local\\Temp\\ipykernel_12832\\1213862490.py:1: FutureWarning: Indexing with multiple keys (implicitly converted to a tuple of keys) will be deprecated, use a list instead.\n",
      "  USpolice=USpolice20.groupby('State')['Population','ViolentCrime','PropertyCrime'].sum()\n"
     ]
    },
    {
     "data": {
      "text/html": [
       "<div>\n",
       "<style scoped>\n",
       "    .dataframe tbody tr th:only-of-type {\n",
       "        vertical-align: middle;\n",
       "    }\n",
       "\n",
       "    .dataframe tbody tr th {\n",
       "        vertical-align: top;\n",
       "    }\n",
       "\n",
       "    .dataframe thead th {\n",
       "        text-align: right;\n",
       "    }\n",
       "</style>\n",
       "<table border=\"1\" class=\"dataframe\">\n",
       "  <thead>\n",
       "    <tr style=\"text-align: right;\">\n",
       "      <th></th>\n",
       "      <th>Population</th>\n",
       "      <th>ViolentCrime</th>\n",
       "      <th>PropertyCrime</th>\n",
       "    </tr>\n",
       "    <tr>\n",
       "      <th>State</th>\n",
       "      <th></th>\n",
       "      <th></th>\n",
       "      <th></th>\n",
       "    </tr>\n",
       "  </thead>\n",
       "  <tbody>\n",
       "    <tr>\n",
       "      <th>Alaska</th>\n",
       "      <td>453704</td>\n",
       "      <td>4742</td>\n",
       "      <td>13776</td>\n",
       "    </tr>\n",
       "    <tr>\n",
       "      <th>Arizona</th>\n",
       "      <td>5031548</td>\n",
       "      <td>25266</td>\n",
       "      <td>123412</td>\n",
       "    </tr>\n",
       "    <tr>\n",
       "      <th>Arkansas</th>\n",
       "      <td>1737760</td>\n",
       "      <td>14823</td>\n",
       "      <td>59458</td>\n",
       "    </tr>\n",
       "    <tr>\n",
       "      <th>California</th>\n",
       "      <td>32959442</td>\n",
       "      <td>143513</td>\n",
       "      <td>729147</td>\n",
       "    </tr>\n",
       "    <tr>\n",
       "      <th>Colorado</th>\n",
       "      <td>3869491</td>\n",
       "      <td>20290</td>\n",
       "      <td>134136</td>\n",
       "    </tr>\n",
       "    <tr>\n",
       "      <th>...</th>\n",
       "      <td>...</td>\n",
       "      <td>...</td>\n",
       "      <td>...</td>\n",
       "    </tr>\n",
       "    <tr>\n",
       "      <th>Virginia</th>\n",
       "      <td>3022350</td>\n",
       "      <td>9942</td>\n",
       "      <td>63536</td>\n",
       "    </tr>\n",
       "    <tr>\n",
       "      <th>Washington</th>\n",
       "      <td>4857949</td>\n",
       "      <td>17563</td>\n",
       "      <td>169000</td>\n",
       "    </tr>\n",
       "    <tr>\n",
       "      <th>West Virginia</th>\n",
       "      <td>387305</td>\n",
       "      <td>2014</td>\n",
       "      <td>10837</td>\n",
       "    </tr>\n",
       "    <tr>\n",
       "      <th>Wisconsin</th>\n",
       "      <td>3795725</td>\n",
       "      <td>16238</td>\n",
       "      <td>70935</td>\n",
       "    </tr>\n",
       "    <tr>\n",
       "      <th>Wyoming</th>\n",
       "      <td>316871</td>\n",
       "      <td>803</td>\n",
       "      <td>6936</td>\n",
       "    </tr>\n",
       "  </tbody>\n",
       "</table>\n",
       "<p>65 rows × 3 columns</p>\n",
       "</div>"
      ],
      "text/plain": [
       "               Population  ViolentCrime  PropertyCrime\n",
       "State                                                 \n",
       "Alaska             453704          4742          13776\n",
       "Arizona           5031548         25266         123412\n",
       "Arkansas          1737760         14823          59458\n",
       "California       32959442        143513         729147\n",
       "Colorado          3869491         20290         134136\n",
       "...                   ...           ...            ...\n",
       "Virginia          3022350          9942          63536\n",
       "Washington        4857949         17563         169000\n",
       "West Virginia      387305          2014          10837\n",
       "Wisconsin         3795725         16238          70935\n",
       "Wyoming            316871           803           6936\n",
       "\n",
       "[65 rows x 3 columns]"
      ]
     },
     "execution_count": 88,
     "metadata": {},
     "output_type": "execute_result"
    }
   ],
   "source": [
    "USpolice=USpolice20.groupby('State')['Population','ViolentCrime','PropertyCrime'].sum()\n",
    "USpolice"
   ]
  },
  {
   "cell_type": "code",
   "execution_count": 89,
   "id": "b5ef6b65-33f1-4aa3-b362-7eb0a92bfb5e",
   "metadata": {},
   "outputs": [],
   "source": [
    "USpolice.to_csv('USpolice.csv')"
   ]
  },
  {
   "cell_type": "code",
   "execution_count": 71,
   "id": "6f643fb5-753d-4aca-8b26-ac47dfc72e44",
   "metadata": {},
   "outputs": [
    {
     "data": {
      "text/plain": [
       "count     7145\n",
       "unique     603\n",
       "top          0\n",
       "freq       772\n",
       "Name: ViolentCrime, dtype: int64"
      ]
     },
     "execution_count": 71,
     "metadata": {},
     "output_type": "execute_result"
    }
   ],
   "source": [
    "USpolice20.ViolentCrime.describe()"
   ]
  },
  {
   "cell_type": "code",
   "execution_count": 72,
   "id": "f8c8c58a-8875-4fbc-928d-2ba2466ee22f",
   "metadata": {},
   "outputs": [
    {
     "data": {
      "text/plain": [
       "107.28817354793561"
      ]
     },
     "execution_count": 72,
     "metadata": {},
     "output_type": "execute_result"
    }
   ],
   "source": [
    "USpolice20.ViolentCrime.mean()"
   ]
  },
  {
   "cell_type": "code",
   "execution_count": 73,
   "id": "6834323d-a265-4069-a6df-040e44299d3e",
   "metadata": {},
   "outputs": [
    {
     "data": {
      "text/plain": [
       "count      7145\n",
       "unique       65\n",
       "top       Texas\n",
       "freq        558\n",
       "Name: State, dtype: object"
      ]
     },
     "execution_count": 73,
     "metadata": {},
     "output_type": "execute_result"
    }
   ],
   "source": [
    "USpolice20.State.describe()"
   ]
  },
  {
   "cell_type": "code",
   "execution_count": 83,
   "id": "88f660a5-fd99-42bf-9a9f-36852262b9b0",
   "metadata": {},
   "outputs": [
    {
     "data": {
      "text/plain": [
       "count     7145\n",
       "unique    6096\n",
       "top       1267\n",
       "freq         5\n",
       "Name: Population, dtype: int64"
      ]
     },
     "execution_count": 83,
     "metadata": {},
     "output_type": "execute_result"
    }
   ],
   "source": [
    "USpolice20['Population'].describe()"
   ]
  },
  {
   "cell_type": "code",
   "execution_count": 75,
   "id": "70690be2-d026-4947-bd87-a4e4946fc129",
   "metadata": {},
   "outputs": [
    {
     "data": {
      "text/plain": [
       "count     7145\n",
       "unique    1455\n",
       "top          0\n",
       "freq       160\n",
       "Name: PropertyCrime, dtype: int64"
      ]
     },
     "execution_count": 75,
     "metadata": {},
     "output_type": "execute_result"
    }
   ],
   "source": [
    "USpolice20.PropertyCrime.describe()"
   ]
  },
  {
   "cell_type": "code",
   "execution_count": 76,
   "id": "c78b9448-9fed-4fe5-b85b-1ae8a753098b",
   "metadata": {},
   "outputs": [
    {
     "data": {
      "text/plain": [
       "552.7990202939118"
      ]
     },
     "execution_count": 76,
     "metadata": {},
     "output_type": "execute_result"
    }
   ],
   "source": [
    "USpolice20.PropertyCrime.mean()"
   ]
  },
  {
   "cell_type": "markdown",
   "id": "f9d8c550-f647-4913-b6b5-2679fbadd9b9",
   "metadata": {},
   "source": [
    "##   Hypothesis:There is no corralation between property crime and bodily crime\n",
    "## Null: There is higher property damage than there is violent crimes against a person"
   ]
  },
  {
   "cell_type": "markdown",
   "id": "abd58646-3628-4564-a189-3fe39e170cbb",
   "metadata": {},
   "source": [
    "Analysis:t test"
   ]
  },
  {
   "cell_type": "code",
   "execution_count": 77,
   "id": "477bbe33-32ad-4891-80bf-4c60f6ee7399",
   "metadata": {},
   "outputs": [
    {
     "data": {
      "text/plain": [
       "<AxesSubplot: >"
      ]
     },
     "execution_count": 77,
     "metadata": {},
     "output_type": "execute_result"
    },
    {
     "data": {
      "image/png": "[encoded data removed]",
      "text/plain": [
       "<Figure size 432x288 with 1 Axes>"
      ]
     },
     "metadata": {
      "needs_background": "light"
     },
     "output_type": "display_data"
    }
   ],
   "source": [
    "USpolice20['PropertyCrime'].hist()"
   ]
  },
  {
   "cell_type": "code",
   "execution_count": 78,
   "id": "f60418e3-0427-4d99-931c-2ec88d6cc588",
   "metadata": {},
   "outputs": [
    {
     "data": {
      "text/plain": [
       "<AxesSubplot: >"
      ]
     },
     "execution_count": 78,
     "metadata": {},
     "output_type": "execute_result"
    },
    {
     "data": {
      "image/png": "[encoded data removed]",
      "text/plain": [
       "<Figure size 432x288 with 1 Axes>"
      ]
     },
     "metadata": {
      "needs_background": "light"
     },
     "output_type": "display_data"
    }
   ],
   "source": [
    "USpolice20['ViolentCrime'].hist()"
   ]
  },
  {
   "cell_type": "code",
   "execution_count": 79,
   "id": "590fefc0-ef64-4a0d-a68b-333d2cb7736d",
   "metadata": {},
   "outputs": [
    {
     "name": "stderr",
     "output_type": "stream",
     "text": [
      "C:\\Users\\dell\\AppData\\Local\\Temp\\ipykernel_12832\\2348802420.py:1: UserWarning: \n",
      "\n",
      "`distplot` is a deprecated function and will be removed in seaborn v0.14.0.\n",
      "\n",
      "Please adapt your code to use either `displot` (a figure-level function with\n",
      "similar flexibility) or `histplot` (an axes-level function for histograms).\n",
      "\n",
      "For a guide to updating your code to use the new functions, please see\n",
      "https://gist.github.com/mwaskom/de44147ed2974457ad6372750bbe5751\n",
      "\n",
      "  sns.distplot(USpolice20['ViolentCrime'])\n"
     ]
    },
    {
     "data": {
      "text/plain": [
       "<AxesSubplot: xlabel='ViolentCrime', ylabel='Density'>"
      ]
     },
     "execution_count": 79,
     "metadata": {},
     "output_type": "execute_result"
    },
    {
     "data": {
      "image/png": "[encoded data removed]",
      "text/plain": [
       "<Figure size 432x288 with 1 Axes>"
      ]
     },
     "metadata": {
      "needs_background": "light"
     },
     "output_type": "display_data"
    }
   ],
   "source": [
    "sns.distplot(USpolice20['ViolentCrime'])"
   ]
  },
  {
   "cell_type": "code",
   "execution_count": 80,
   "id": "1b6a67ba-0a39-42a3-827f-5169ba98ba0c",
   "metadata": {},
   "outputs": [
    {
     "data": {
      "text/plain": [
       "<AxesSubplot: >"
      ]
     },
     "execution_count": 80,
     "metadata": {},
     "output_type": "execute_result"
    },
    {
     "data": {
      "image/png": "[encoded data removed]",
      "text/plain": [
       "<Figure size 432x288 with 1 Axes>"
      ]
     },
     "metadata": {
      "needs_background": "light"
     },
     "output_type": "display_data"
    }
   ],
   "source": [
    "USpolice20.ViolentCrime[USpolice20.State == 'Texas'].hist()"
   ]
  },
  {
   "cell_type": "code",
   "execution_count": 81,
   "id": "ad61ae7b-e9a1-4025-90e6-36e3726327c4",
   "metadata": {},
   "outputs": [
    {
     "data": {
      "text/plain": [
       "Ttest_relResult(statistic=-18.62776249092089, pvalue=1.1610451007500108e-75)"
      ]
     },
     "execution_count": 81,
     "metadata": {},
     "output_type": "execute_result"
    }
   ],
   "source": [
    "stats.ttest_rel(USpolice20['ViolentCrime'], USpolice20['PropertyCrime'])"
   ]
  },
  {
   "cell_type": "markdown",
   "id": "84b842bd-e392-4520-b7ce-3ac1f2d669d1",
   "metadata": {},
   "source": [
    "## Hypothesis:There is no corralation between the number of assaults and murder\n",
    "## Null: As the number of assaults increase there is a increase in murders"
   ]
  },
  {
   "cell_type": "markdown",
   "id": "840d854e-6ca7-44a3-9633-65fb16f6e836",
   "metadata": {},
   "source": [
    "Analysis:"
   ]
  },
  {
   "cell_type": "markdown",
   "id": "3c279e40-fedc-44b6-884a-c5b6ba647ae9",
   "metadata": {},
   "source": [
    "## Hypothesis:There is no corralation between the number of crimes and population\n",
    "## Null: As the population increases there is a increase in crimes"
   ]
  },
  {
   "cell_type": "markdown",
   "id": "a736747b-af40-4c1d-b303-9e814ca26335",
   "metadata": {},
   "source": [
    "Analysis:"
   ]
  },
  {
   "cell_type": "code",
   "execution_count": null,
   "id": "1f4d05b5-a22b-477a-8d4d-afae36df9b87",
   "metadata": {},
   "outputs": [],
   "source": []
  }
 ],
 "metadata": {
  "kernelspec": {
   "display_name": "Python 3 (ipykernel)",
   "language": "python",
   "name": "python3"
  },
  "language_info": {
   "codemirror_mode": {
    "name": "ipython",
    "version": 3
   },
   "file_extension": ".py",
   "mimetype": "text/x-python",
   "name": "python",
   "nbconvert_exporter": "python",
   "pygments_lexer": "ipython3",
   "version": "3.10.5"
  },
  "widgets": {
   "application/vnd.jupyter.widget-state+json": {
    "state": {},
    "version_major": 2,
    "version_minor": 0
   }
  }
 },
 "nbformat": 4,
 "nbformat_minor": 5
}
