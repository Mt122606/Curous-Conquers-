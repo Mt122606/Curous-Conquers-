{
 "cells": [
  {
   "cell_type": "code",
   "execution_count": 21,
   "id": "7898d124-da12-4718-8cd2-df6b879c0048",
   "metadata": {},
   "outputs": [],
   "source": [
    "import numpy as np\n",
    "import pandas as pd\n",
    "import seaborn as sns\n",
    "import scipy\n",
    "from scipy.stats import norm\n",
    "from scipy import stats\n",
    "from statsmodels.stats.proportion import proportions_ztest\n",
    "from statsmodels.stats.multicomp import pairwise_tukeyhsd\n",
    "from statsmodels.stats.multicomp import MultiComparison"
   ]
  },
  {
   "cell_type": "code",
   "execution_count": 32,
   "id": "d8256d3c-6e4f-422c-af45-e79e486f43cd",
   "metadata": {},
   "outputs": [],
   "source": [
    "USpolice21 = pd.read_excel(\"New/USDATA/KnownUSincedents2021/Table_8_Offenses_Known_to_Law_Enforcement_by_State_by_City_2021.xlsx\")"
   ]
  },
  {
   "cell_type": "markdown",
   "id": "6b6437e6-aa59-4390-b01a-bcdcb0954031",
   "metadata": {},
   "source": [
    "## Offenses Known to Law Enforcement\n",
    "#### by State by City, 2021"
   ]
  },
  {
   "cell_type": "code",
   "execution_count": 33,
   "id": "5143178e-eca8-498f-a245-7b0779e5235c",
   "metadata": {},
   "outputs": [],
   "source": [
    "USpolice21.drop([0,1,2,5878],inplace=True)"
   ]
  },
  {
   "cell_type": "code",
   "execution_count": 39,
   "id": "e1900963-9fe9-4e32-8dbb-e7c6557aec08",
   "metadata": {},
   "outputs": [],
   "source": [
    "USpolice21.rename(columns={\"Table 8\":\"State\",\"Unnamed: 1\":\"City\",\"Unnamed: 2\":\"Population\",\"Unnamed: 3\":\"ViolentCrime\",\"Unnamed: 4\":\"MurderNonnegligentManslaughter\",\n",
    "\"Unnamed: 5\":\"Rape\",\"Unnamed: 6\":\"Robbery\",\"Unnamed: 7\":\"AggravatedAssault\",\"Unnamed: 8\":\"PropertyCrime\",\"Unnamed: 9\":\"Burglary\",\"Unnamed: 10\":\"Larcenytheft\",\"Unnamed: 11\":\"Motor\\nvehicle\\ntheft\",\"Unnamed: 12\":\"Arson\"},inplace=True)\n"
   ]
  },
  {
   "cell_type": "code",
   "execution_count": null,
   "id": "d9a7e712-5f1a-4dee-9742-3416ae6f01ea",
   "metadata": {},
   "outputs": [
    {
     "data": {
      "text/html": [
       "<div>\n",
       "<style scoped>\n",
       "    .dataframe tbody tr th:only-of-type {\n",
       "        vertical-align: middle;\n",
       "    }\n",
       "\n",
       "    .dataframe tbody tr th {\n",
       "        vertical-align: top;\n",
       "    }\n",
       "\n",
       "    .dataframe thead th {\n",
       "        text-align: right;\n",
       "    }\n",
       "</style>\n",
       "<table border=\"1\" class=\"dataframe\">\n",
       "  <thead>\n",
       "    <tr style=\"text-align: right;\">\n",
       "      <th></th>\n",
       "      <th>State</th>\n",
       "      <th>City</th>\n",
       "      <th>Population</th>\n",
       "      <th>ViolentCrime</th>\n",
       "      <th>MurderNonnegligentManslaughter</th>\n",
       "      <th>Rape</th>\n",
       "      <th>Robbery</th>\n",
       "      <th>AggravatedAssault</th>\n",
       "      <th>PropertyCrime</th>\n",
       "      <th>Burglary</th>\n",
       "      <th>Larcenytheft</th>\n",
       "      <th>Motor\\nvehicle\\ntheft</th>\n",
       "      <th>Arson</th>\n",
       "    </tr>\n",
       "  </thead>\n",
       "  <tbody>\n",
       "    <tr>\n",
       "      <th>3</th>\n",
       "      <td>ALABAMA</td>\n",
       "      <td>Abbeville</td>\n",
       "      <td>2539</td>\n",
       "      <td>4</td>\n",
       "      <td>1</td>\n",
       "      <td>0</td>\n",
       "      <td>0</td>\n",
       "      <td>3</td>\n",
       "      <td>53</td>\n",
       "      <td>11</td>\n",
       "      <td>37</td>\n",
       "      <td>5</td>\n",
       "      <td>0</td>\n",
       "    </tr>\n",
       "    <tr>\n",
       "      <th>4</th>\n",
       "      <td>ALABAMA</td>\n",
       "      <td>Alabaster</td>\n",
       "      <td>33963</td>\n",
       "      <td>25</td>\n",
       "      <td>1</td>\n",
       "      <td>4</td>\n",
       "      <td>0</td>\n",
       "      <td>20</td>\n",
       "      <td>282</td>\n",
       "      <td>13</td>\n",
       "      <td>253</td>\n",
       "      <td>16</td>\n",
       "      <td>1</td>\n",
       "    </tr>\n",
       "    <tr>\n",
       "      <th>5</th>\n",
       "      <td>ALABAMA</td>\n",
       "      <td>Alexander City</td>\n",
       "      <td>14066</td>\n",
       "      <td>40</td>\n",
       "      <td>0</td>\n",
       "      <td>0</td>\n",
       "      <td>7</td>\n",
       "      <td>33</td>\n",
       "      <td>283</td>\n",
       "      <td>178</td>\n",
       "      <td>87</td>\n",
       "      <td>18</td>\n",
       "      <td>1</td>\n",
       "    </tr>\n",
       "    <tr>\n",
       "      <th>6</th>\n",
       "      <td>ALABAMA</td>\n",
       "      <td>Altoona</td>\n",
       "      <td>913</td>\n",
       "      <td>4</td>\n",
       "      <td>0</td>\n",
       "      <td>0</td>\n",
       "      <td>0</td>\n",
       "      <td>4</td>\n",
       "      <td>7</td>\n",
       "      <td>1</td>\n",
       "      <td>6</td>\n",
       "      <td>0</td>\n",
       "      <td>0</td>\n",
       "    </tr>\n",
       "    <tr>\n",
       "      <th>7</th>\n",
       "      <td>ALABAMA</td>\n",
       "      <td>Andalusia</td>\n",
       "      <td>8643</td>\n",
       "      <td>44</td>\n",
       "      <td>1</td>\n",
       "      <td>6</td>\n",
       "      <td>1</td>\n",
       "      <td>36</td>\n",
       "      <td>254</td>\n",
       "      <td>45</td>\n",
       "      <td>198</td>\n",
       "      <td>11</td>\n",
       "      <td>0</td>\n",
       "    </tr>\n",
       "    <tr>\n",
       "      <th>...</th>\n",
       "      <td>...</td>\n",
       "      <td>...</td>\n",
       "      <td>...</td>\n",
       "      <td>...</td>\n",
       "      <td>...</td>\n",
       "      <td>...</td>\n",
       "      <td>...</td>\n",
       "      <td>...</td>\n",
       "      <td>...</td>\n",
       "      <td>...</td>\n",
       "      <td>...</td>\n",
       "      <td>...</td>\n",
       "      <td>...</td>\n",
       "    </tr>\n",
       "    <tr>\n",
       "      <th>5873</th>\n",
       "      <td>WYOMING</td>\n",
       "      <td>Rock Springs</td>\n",
       "      <td>22937</td>\n",
       "      <td>49</td>\n",
       "      <td>1</td>\n",
       "      <td>17</td>\n",
       "      <td>2</td>\n",
       "      <td>29</td>\n",
       "      <td>286</td>\n",
       "      <td>44</td>\n",
       "      <td>217</td>\n",
       "      <td>25</td>\n",
       "      <td>3</td>\n",
       "    </tr>\n",
       "    <tr>\n",
       "      <th>5874</th>\n",
       "      <td>WYOMING</td>\n",
       "      <td>Sheridan</td>\n",
       "      <td>18157</td>\n",
       "      <td>15</td>\n",
       "      <td>0</td>\n",
       "      <td>0</td>\n",
       "      <td>0</td>\n",
       "      <td>15</td>\n",
       "      <td>239</td>\n",
       "      <td>19</td>\n",
       "      <td>202</td>\n",
       "      <td>18</td>\n",
       "      <td>2</td>\n",
       "    </tr>\n",
       "    <tr>\n",
       "      <th>5875</th>\n",
       "      <td>WYOMING</td>\n",
       "      <td>Thermopolis</td>\n",
       "      <td>2747</td>\n",
       "      <td>2</td>\n",
       "      <td>0</td>\n",
       "      <td>0</td>\n",
       "      <td>0</td>\n",
       "      <td>2</td>\n",
       "      <td>25</td>\n",
       "      <td>2</td>\n",
       "      <td>23</td>\n",
       "      <td>0</td>\n",
       "      <td>0</td>\n",
       "    </tr>\n",
       "    <tr>\n",
       "      <th>5876</th>\n",
       "      <td>WYOMING</td>\n",
       "      <td>Torrington</td>\n",
       "      <td>6564</td>\n",
       "      <td>16</td>\n",
       "      <td>1</td>\n",
       "      <td>4</td>\n",
       "      <td>0</td>\n",
       "      <td>11</td>\n",
       "      <td>63</td>\n",
       "      <td>15</td>\n",
       "      <td>40</td>\n",
       "      <td>8</td>\n",
       "      <td>1</td>\n",
       "    </tr>\n",
       "    <tr>\n",
       "      <th>5877</th>\n",
       "      <td>WYOMING</td>\n",
       "      <td>Worland</td>\n",
       "      <td>4947</td>\n",
       "      <td>5</td>\n",
       "      <td>0</td>\n",
       "      <td>2</td>\n",
       "      <td>0</td>\n",
       "      <td>3</td>\n",
       "      <td>37</td>\n",
       "      <td>0</td>\n",
       "      <td>34</td>\n",
       "      <td>3</td>\n",
       "      <td>1</td>\n",
       "    </tr>\n",
       "  </tbody>\n",
       "</table>\n",
       "<p>5875 rows × 13 columns</p>\n",
       "</div>"
      ],
      "text/plain": [
       "        State            City Population ViolentCrime  \\\n",
       "3     ALABAMA       Abbeville       2539            4   \n",
       "4     ALABAMA       Alabaster      33963           25   \n",
       "5     ALABAMA  Alexander City      14066           40   \n",
       "6     ALABAMA         Altoona        913            4   \n",
       "7     ALABAMA       Andalusia       8643           44   \n",
       "...       ...             ...        ...          ...   \n",
       "5873  WYOMING    Rock Springs      22937           49   \n",
       "5874  WYOMING        Sheridan      18157           15   \n",
       "5875  WYOMING     Thermopolis       2747            2   \n",
       "5876  WYOMING      Torrington       6564           16   \n",
       "5877  WYOMING         Worland       4947            5   \n",
       "\n",
       "     MurderNonnegligentManslaughter Rape Robbery AggravatedAssault  \\\n",
       "3                                 1    0       0                 3   \n",
       "4                                 1    4       0                20   \n",
       "5                                 0    0       7                33   \n",
       "6                                 0    0       0                 4   \n",
       "7                                 1    6       1                36   \n",
       "...                             ...  ...     ...               ...   \n",
       "5873                              1   17       2                29   \n",
       "5874                              0    0       0                15   \n",
       "5875                              0    0       0                 2   \n",
       "5876                              1    4       0                11   \n",
       "5877                              0    2       0                 3   \n",
       "\n",
       "     PropertyCrime Burglary Larcenytheft Motor\\nvehicle\\ntheft Arson  \n",
       "3               53       11           37                     5     0  \n",
       "4              282       13          253                    16     1  \n",
       "5              283      178           87                    18     1  \n",
       "6                7        1            6                     0     0  \n",
       "7              254       45          198                    11     0  \n",
       "...            ...      ...          ...                   ...   ...  \n",
       "5873           286       44          217                    25     3  \n",
       "5874           239       19          202                    18     2  \n",
       "5875            25        2           23                     0     0  \n",
       "5876            63       15           40                     8     1  \n",
       "5877            37        0           34                     3     1  \n",
       "\n",
       "[5875 rows x 13 columns]"
      ]
     },
     "execution_count": 44,
     "metadata": {},
     "output_type": "execute_result"
    }
   ],
   "source": [
    "USpolice21"
   ]
  },
  {
   "cell_type": "code",
   "execution_count": 54,
   "id": "b5ef6b65-33f1-4aa3-b362-7eb0a92bfb5e",
   "metadata": {},
   "outputs": [],
   "source": [
    "USpolice21.to_csv('USpolice.csv')"
   ]
  },
  {
   "cell_type": "code",
   "execution_count": 57,
   "id": "6f643fb5-753d-4aca-8b26-ac47dfc72e44",
   "metadata": {},
   "outputs": [
    {
     "data": {
      "text/plain": [
       "count     5873\n",
       "unique     509\n",
       "top          0\n",
       "freq       536\n",
       "Name: ViolentCrime, dtype: int64"
      ]
     },
     "execution_count": 57,
     "metadata": {},
     "output_type": "execute_result"
    }
   ],
   "source": [
    "USpolice21.ViolentCrime.describe()"
   ]
  },
  {
   "cell_type": "code",
   "execution_count": 62,
   "id": "f8c8c58a-8875-4fbc-928d-2ba2466ee22f",
   "metadata": {},
   "outputs": [
    {
     "data": {
      "text/plain": [
       "100.29865486122935"
      ]
     },
     "execution_count": 62,
     "metadata": {},
     "output_type": "execute_result"
    }
   ],
   "source": [
    "USpolice21.ViolentCrime.mean()"
   ]
  },
  {
   "cell_type": "code",
   "execution_count": 56,
   "id": "6834323d-a265-4069-a6df-040e44299d3e",
   "metadata": {},
   "outputs": [
    {
     "data": {
      "text/plain": [
       "count      5875\n",
       "unique       51\n",
       "top       TEXAS\n",
       "freq        586\n",
       "Name: State, dtype: object"
      ]
     },
     "execution_count": 56,
     "metadata": {},
     "output_type": "execute_result"
    }
   ],
   "source": [
    "USpolice21.State.describe()"
   ]
  },
  {
   "cell_type": "code",
   "execution_count": 52,
   "id": "88f660a5-fd99-42bf-9a9f-36852262b9b0",
   "metadata": {},
   "outputs": [
    {
     "data": {
      "text/plain": [
       "count     5873\n",
       "unique    5063\n",
       "top       1665\n",
       "freq         6\n",
       "Name: Population, dtype: int64"
      ]
     },
     "execution_count": 52,
     "metadata": {},
     "output_type": "execute_result"
    }
   ],
   "source": [
    "USpolice21.Population.describe()"
   ]
  },
  {
   "cell_type": "code",
   "execution_count": 53,
   "id": "70690be2-d026-4947-bd87-a4e4946fc129",
   "metadata": {},
   "outputs": [
    {
     "data": {
      "text/plain": [
       "count     5873\n",
       "unique    1233\n",
       "top          0\n",
       "freq       123\n",
       "Name: PropertyCrime, dtype: int64"
      ]
     },
     "execution_count": 53,
     "metadata": {},
     "output_type": "execute_result"
    }
   ],
   "source": [
    "USpolice21.PropertyCrime.describe()"
   ]
  },
  {
   "cell_type": "code",
   "execution_count": 60,
   "id": "c78b9448-9fed-4fe5-b85b-1ae8a753098b",
   "metadata": {},
   "outputs": [
    {
     "data": {
      "text/plain": [
       "511.11016516260855"
      ]
     },
     "execution_count": 60,
     "metadata": {},
     "output_type": "execute_result"
    }
   ],
   "source": [
    "USpolice21.PropertyCrime.mean()"
   ]
  },
  {
   "cell_type": "markdown",
   "id": "f9d8c550-f647-4913-b6b5-2679fbadd9b9",
   "metadata": {},
   "source": [
    "##   Hypothesis:There is no corralation between property crime and bodily crime\n",
    "## Null: There is higher property damage than there is violent crimes against a person"
   ]
  },
  {
   "cell_type": "markdown",
   "id": "abd58646-3628-4564-a189-3fe39e170cbb",
   "metadata": {},
   "source": [
    "Analysis:t test"
   ]
  },
  {
   "cell_type": "code",
   "execution_count": 59,
   "id": "477bbe33-32ad-4891-80bf-4c60f6ee7399",
   "metadata": {},
   "outputs": [
    {
     "data": {
      "text/plain": [
       "<AxesSubplot: >"
      ]
     },
     "execution_count": 59,
     "metadata": {},
     "output_type": "execute_result"
    },
    {
     "data": {
      "image/png": "[encoded data removed]",
      "text/plain": [
       "<Figure size 432x288 with 1 Axes>"
      ]
     },
     "metadata": {
      "needs_background": "light"
     },
     "output_type": "display_data"
    }
   ],
   "source": [
    "USpolice21['PropertyCrime'].hist()"
   ]
  },
  {
   "cell_type": "code",
   "execution_count": 58,
   "id": "f60418e3-0427-4d99-931c-2ec88d6cc588",
   "metadata": {},
   "outputs": [
    {
     "data": {
      "text/plain": [
       "<AxesSubplot: >"
      ]
     },
     "execution_count": 58,
     "metadata": {},
     "output_type": "execute_result"
    },
    {
     "data": {
      "image/png": "[encoded data removed]",
      "text/plain": [
       "<Figure size 432x288 with 1 Axes>"
      ]
     },
     "metadata": {
      "needs_background": "light"
     },
     "output_type": "display_data"
    }
   ],
   "source": [
    "USpolice21['ViolentCrime'].hist()"
   ]
  },
  {
   "cell_type": "code",
   "execution_count": 66,
   "id": "1b6a67ba-0a39-42a3-827f-5169ba98ba0c",
   "metadata": {},
   "outputs": [
    {
     "data": {
      "text/plain": [
       "<AxesSubplot: >"
      ]
     },
     "execution_count": 66,
     "metadata": {},
     "output_type": "execute_result"
    },
    {
     "data": {
      "image/png": "[encoded data removed]",
      "text/plain": [
       "<Figure size 432x288 with 1 Axes>"
      ]
     },
     "metadata": {
      "needs_background": "light"
     },
     "output_type": "display_data"
    }
   ],
   "source": [
    "USpolice21.ViolentCrime[USpolice21.State == 'TEXAS'].hist()"
   ]
  },
  {
   "cell_type": "markdown",
   "id": "84b842bd-e392-4520-b7ce-3ac1f2d669d1",
   "metadata": {},
   "source": [
    "## Hypothesis:There is no corralation between the number of assaults and murder\n",
    "## Null: As the number of assaults increase there is a increase in murders"
   ]
  },
  {
   "cell_type": "markdown",
   "id": "840d854e-6ca7-44a3-9633-65fb16f6e836",
   "metadata": {},
   "source": [
    "Analysis:"
   ]
  },
  {
   "cell_type": "markdown",
   "id": "3c279e40-fedc-44b6-884a-c5b6ba647ae9",
   "metadata": {},
   "source": [
    "## Hypothesis:There is no corralation between the number of crimes and population\n",
    "## Null: As the population increases there is a increase in crimes"
   ]
  },
  {
   "cell_type": "markdown",
   "id": "a736747b-af40-4c1d-b303-9e814ca26335",
   "metadata": {},
   "source": [
    "Analysis:"
   ]
  },
  {
   "cell_type": "code",
   "execution_count": 15,
   "id": "d427e6d6-14bc-4913-acf0-336e0654767a",
   "metadata": {
    "jupyter": {
     "source_hidden": true
    },
    "tags": []
   },
   "outputs": [],
   "source": [
    "USpoliceage = pd.read_excel(\"New/USDATA/ucrAgeGender.xlsx\")"
   ]
  },
  {
   "cell_type": "code",
   "execution_count": 18,
   "id": "bb313c48-bc27-42aa-b341-420997f76b9d",
   "metadata": {
    "jupyter": {
     "source_hidden": true
    },
    "tags": []
   },
   "outputs": [],
   "source": [
    "USpoliceage.drop([0,1,4,19,30,33,34,35,36,37,38,39,40,41,42,43,44],inplace=True)"
   ]
  },
  {
   "cell_type": "code",
   "execution_count": 19,
   "id": "8821f368-62bc-4216-bab0-106534af1768",
   "metadata": {
    "jupyter": {
     "source_hidden": true
    },
    "tags": []
   },
   "outputs": [],
   "source": [
    "USpoliceage.rename(columns={\"Estimated number of arrests by offense and age group, 2020\":\"Offenses\",\"Unnamed: 1\":\"All ages\",\"Unnamed: 2\":\"0 to 17\",\"Unnamed: 3\":\"18 & older\",\"Unnamed: 4\":\"10 to 17\",\"Unnamed: 5\":\"0 to 14\",\"Unnamed: 6\":\"15 to 17\",\"Unnamed: 7\":\"18 to 20\",\"Unnamed: 8\":\"21 to 24\",\"Unnamed: 9\":\"25 & older\"},inplace=True)"
   ]
  },
  {
   "cell_type": "code",
   "execution_count": 20,
   "id": "5edc23fb-32b1-49ee-8307-5fec070fadb0",
   "metadata": {
    "collapsed": true,
    "jupyter": {
     "outputs_hidden": true,
     "source_hidden": true
    },
    "tags": []
   },
   "outputs": [
    {
     "data": {
      "text/html": [
       "<div>\n",
       "<style scoped>\n",
       "    .dataframe tbody tr th:only-of-type {\n",
       "        vertical-align: middle;\n",
       "    }\n",
       "\n",
       "    .dataframe tbody tr th {\n",
       "        vertical-align: top;\n",
       "    }\n",
       "\n",
       "    .dataframe thead th {\n",
       "        text-align: right;\n",
       "    }\n",
       "</style>\n",
       "<table border=\"1\" class=\"dataframe\">\n",
       "  <thead>\n",
       "    <tr style=\"text-align: right;\">\n",
       "      <th></th>\n",
       "      <th>Offenses</th>\n",
       "      <th>All ages</th>\n",
       "      <th>0 to 17</th>\n",
       "      <th>18 &amp; older</th>\n",
       "      <th>10 to 17</th>\n",
       "      <th>0 to 14</th>\n",
       "      <th>15 to 17</th>\n",
       "      <th>18 to 20</th>\n",
       "      <th>21 to 24</th>\n",
       "      <th>25 &amp; older</th>\n",
       "    </tr>\n",
       "  </thead>\n",
       "  <tbody>\n",
       "    <tr>\n",
       "      <th>2</th>\n",
       "      <td>All offenses</td>\n",
       "      <td>7632470</td>\n",
       "      <td>424300</td>\n",
       "      <td>7208180</td>\n",
       "      <td>422640</td>\n",
       "      <td>121930</td>\n",
       "      <td>302370</td>\n",
       "      <td>592260</td>\n",
       "      <td>894730</td>\n",
       "      <td>5721190</td>\n",
       "    </tr>\n",
       "    <tr>\n",
       "      <th>3</th>\n",
       "      <td>Murder and nonnegligent manslaughter</td>\n",
       "      <td>12440</td>\n",
       "      <td>930</td>\n",
       "      <td>11510</td>\n",
       "      <td>930</td>\n",
       "      <td>90</td>\n",
       "      <td>840</td>\n",
       "      <td>1820</td>\n",
       "      <td>2140</td>\n",
       "      <td>7550</td>\n",
       "    </tr>\n",
       "    <tr>\n",
       "      <th>5</th>\n",
       "      <td>Robbery</td>\n",
       "      <td>67900</td>\n",
       "      <td>12000</td>\n",
       "      <td>55900</td>\n",
       "      <td>12000</td>\n",
       "      <td>2490</td>\n",
       "      <td>9510</td>\n",
       "      <td>10610</td>\n",
       "      <td>9420</td>\n",
       "      <td>35880</td>\n",
       "    </tr>\n",
       "    <tr>\n",
       "      <th>6</th>\n",
       "      <td>Aggravated assault</td>\n",
       "      <td>381190</td>\n",
       "      <td>19140</td>\n",
       "      <td>362050</td>\n",
       "      <td>19050</td>\n",
       "      <td>5560</td>\n",
       "      <td>13580</td>\n",
       "      <td>26590</td>\n",
       "      <td>46300</td>\n",
       "      <td>289160</td>\n",
       "    </tr>\n",
       "    <tr>\n",
       "      <th>7</th>\n",
       "      <td>Burglary</td>\n",
       "      <td>149350</td>\n",
       "      <td>15130</td>\n",
       "      <td>134230</td>\n",
       "      <td>15040</td>\n",
       "      <td>4830</td>\n",
       "      <td>10300</td>\n",
       "      <td>12300</td>\n",
       "      <td>16050</td>\n",
       "      <td>105870</td>\n",
       "    </tr>\n",
       "    <tr>\n",
       "      <th>8</th>\n",
       "      <td>Larceny-theft</td>\n",
       "      <td>629020</td>\n",
       "      <td>46700</td>\n",
       "      <td>582320</td>\n",
       "      <td>46600</td>\n",
       "      <td>12530</td>\n",
       "      <td>34180</td>\n",
       "      <td>50640</td>\n",
       "      <td>65240</td>\n",
       "      <td>466450</td>\n",
       "    </tr>\n",
       "    <tr>\n",
       "      <th>9</th>\n",
       "      <td>Motor vehicle theft</td>\n",
       "      <td>83220</td>\n",
       "      <td>11660</td>\n",
       "      <td>71560</td>\n",
       "      <td>11650</td>\n",
       "      <td>3340</td>\n",
       "      <td>8320</td>\n",
       "      <td>7270</td>\n",
       "      <td>9570</td>\n",
       "      <td>54720</td>\n",
       "    </tr>\n",
       "    <tr>\n",
       "      <th>10</th>\n",
       "      <td>Arson</td>\n",
       "      <td>9780</td>\n",
       "      <td>1200</td>\n",
       "      <td>8580</td>\n",
       "      <td>1160</td>\n",
       "      <td>660</td>\n",
       "      <td>540</td>\n",
       "      <td>450</td>\n",
       "      <td>780</td>\n",
       "      <td>7350</td>\n",
       "    </tr>\n",
       "    <tr>\n",
       "      <th>11</th>\n",
       "      <td>Simple assault</td>\n",
       "      <td>906980</td>\n",
       "      <td>70940</td>\n",
       "      <td>836040</td>\n",
       "      <td>70610</td>\n",
       "      <td>27250</td>\n",
       "      <td>43690</td>\n",
       "      <td>59560</td>\n",
       "      <td>103620</td>\n",
       "      <td>672860</td>\n",
       "    </tr>\n",
       "    <tr>\n",
       "      <th>12</th>\n",
       "      <td>Forgery and counterfeiting</td>\n",
       "      <td>32500</td>\n",
       "      <td>470</td>\n",
       "      <td>32030</td>\n",
       "      <td>470</td>\n",
       "      <td>70</td>\n",
       "      <td>400</td>\n",
       "      <td>3230</td>\n",
       "      <td>3510</td>\n",
       "      <td>25300</td>\n",
       "    </tr>\n",
       "    <tr>\n",
       "      <th>13</th>\n",
       "      <td>Fraud</td>\n",
       "      <td>79520</td>\n",
       "      <td>2620</td>\n",
       "      <td>76900</td>\n",
       "      <td>2620</td>\n",
       "      <td>670</td>\n",
       "      <td>1950</td>\n",
       "      <td>5660</td>\n",
       "      <td>8790</td>\n",
       "      <td>62440</td>\n",
       "    </tr>\n",
       "    <tr>\n",
       "      <th>14</th>\n",
       "      <td>Embezzlement</td>\n",
       "      <td>9390</td>\n",
       "      <td>430</td>\n",
       "      <td>8960</td>\n",
       "      <td>430</td>\n",
       "      <td>10</td>\n",
       "      <td>420</td>\n",
       "      <td>1410</td>\n",
       "      <td>1360</td>\n",
       "      <td>6200</td>\n",
       "    </tr>\n",
       "    <tr>\n",
       "      <th>15</th>\n",
       "      <td>Stolen property (buying, receiving, possessing)</td>\n",
       "      <td>88320</td>\n",
       "      <td>8190</td>\n",
       "      <td>80130</td>\n",
       "      <td>8190</td>\n",
       "      <td>1740</td>\n",
       "      <td>6450</td>\n",
       "      <td>8620</td>\n",
       "      <td>10730</td>\n",
       "      <td>60770</td>\n",
       "    </tr>\n",
       "    <tr>\n",
       "      <th>16</th>\n",
       "      <td>Vandalism</td>\n",
       "      <td>173770</td>\n",
       "      <td>23130</td>\n",
       "      <td>150640</td>\n",
       "      <td>22900</td>\n",
       "      <td>9130</td>\n",
       "      <td>14010</td>\n",
       "      <td>15640</td>\n",
       "      <td>21470</td>\n",
       "      <td>113530</td>\n",
       "    </tr>\n",
       "    <tr>\n",
       "      <th>17</th>\n",
       "      <td>Weapons (carrying, possessing, etc.)</td>\n",
       "      <td>166200</td>\n",
       "      <td>11110</td>\n",
       "      <td>155090</td>\n",
       "      <td>11090</td>\n",
       "      <td>2060</td>\n",
       "      <td>9050</td>\n",
       "      <td>19990</td>\n",
       "      <td>29250</td>\n",
       "      <td>105850</td>\n",
       "    </tr>\n",
       "    <tr>\n",
       "      <th>18</th>\n",
       "      <td>Prostitution and commercialized vice</td>\n",
       "      <td>16770</td>\n",
       "      <td>110</td>\n",
       "      <td>16660</td>\n",
       "      <td>110</td>\n",
       "      <td>20</td>\n",
       "      <td>90</td>\n",
       "      <td>1940</td>\n",
       "      <td>3110</td>\n",
       "      <td>11610</td>\n",
       "    </tr>\n",
       "    <tr>\n",
       "      <th>20</th>\n",
       "      <td>Drug abuse violations</td>\n",
       "      <td>1155610</td>\n",
       "      <td>42280</td>\n",
       "      <td>1113330</td>\n",
       "      <td>42250</td>\n",
       "      <td>6520</td>\n",
       "      <td>35770</td>\n",
       "      <td>111310</td>\n",
       "      <td>151370</td>\n",
       "      <td>850640</td>\n",
       "    </tr>\n",
       "    <tr>\n",
       "      <th>21</th>\n",
       "      <td>Gambling</td>\n",
       "      <td>1630</td>\n",
       "      <td>70</td>\n",
       "      <td>1550</td>\n",
       "      <td>70</td>\n",
       "      <td>10</td>\n",
       "      <td>60</td>\n",
       "      <td>90</td>\n",
       "      <td>130</td>\n",
       "      <td>1330</td>\n",
       "    </tr>\n",
       "    <tr>\n",
       "      <th>22</th>\n",
       "      <td>Offenses against the family and children</td>\n",
       "      <td>59400</td>\n",
       "      <td>2420</td>\n",
       "      <td>56980</td>\n",
       "      <td>2390</td>\n",
       "      <td>780</td>\n",
       "      <td>1630</td>\n",
       "      <td>2630</td>\n",
       "      <td>5350</td>\n",
       "      <td>49000</td>\n",
       "    </tr>\n",
       "    <tr>\n",
       "      <th>23</th>\n",
       "      <td>Driving under the influence</td>\n",
       "      <td>778910</td>\n",
       "      <td>5870</td>\n",
       "      <td>773040</td>\n",
       "      <td>5870</td>\n",
       "      <td>90</td>\n",
       "      <td>5780</td>\n",
       "      <td>44020</td>\n",
       "      <td>107610</td>\n",
       "      <td>621400</td>\n",
       "    </tr>\n",
       "    <tr>\n",
       "      <th>24</th>\n",
       "      <td>Liquor laws</td>\n",
       "      <td>104200</td>\n",
       "      <td>17910</td>\n",
       "      <td>86290</td>\n",
       "      <td>17910</td>\n",
       "      <td>2220</td>\n",
       "      <td>15690</td>\n",
       "      <td>39360</td>\n",
       "      <td>7020</td>\n",
       "      <td>39900</td>\n",
       "    </tr>\n",
       "    <tr>\n",
       "      <th>25</th>\n",
       "      <td>Drunkenness</td>\n",
       "      <td>194250</td>\n",
       "      <td>2390</td>\n",
       "      <td>191860</td>\n",
       "      <td>2390</td>\n",
       "      <td>380</td>\n",
       "      <td>2010</td>\n",
       "      <td>9370</td>\n",
       "      <td>20200</td>\n",
       "      <td>162290</td>\n",
       "    </tr>\n",
       "    <tr>\n",
       "      <th>26</th>\n",
       "      <td>Disorderly conduct</td>\n",
       "      <td>225800</td>\n",
       "      <td>24720</td>\n",
       "      <td>201080</td>\n",
       "      <td>24590</td>\n",
       "      <td>9820</td>\n",
       "      <td>14900</td>\n",
       "      <td>17520</td>\n",
       "      <td>26210</td>\n",
       "      <td>157350</td>\n",
       "    </tr>\n",
       "    <tr>\n",
       "      <th>27</th>\n",
       "      <td>Vagrancy</td>\n",
       "      <td>13650</td>\n",
       "      <td>250</td>\n",
       "      <td>13400</td>\n",
       "      <td>250</td>\n",
       "      <td>60</td>\n",
       "      <td>190</td>\n",
       "      <td>1010</td>\n",
       "      <td>1220</td>\n",
       "      <td>11170</td>\n",
       "    </tr>\n",
       "    <tr>\n",
       "      <th>28</th>\n",
       "      <td>All other offenses (except traffic)</td>\n",
       "      <td>2228330</td>\n",
       "      <td>85970</td>\n",
       "      <td>2142360</td>\n",
       "      <td>85520</td>\n",
       "      <td>24400</td>\n",
       "      <td>61570</td>\n",
       "      <td>136500</td>\n",
       "      <td>239180</td>\n",
       "      <td>1766680</td>\n",
       "    </tr>\n",
       "    <tr>\n",
       "      <th>29</th>\n",
       "      <td>Curfew and loitering</td>\n",
       "      <td>11680</td>\n",
       "      <td>11680</td>\n",
       "      <td>0</td>\n",
       "      <td>11660</td>\n",
       "      <td>3980</td>\n",
       "      <td>7700</td>\n",
       "      <td>0</td>\n",
       "      <td>0</td>\n",
       "      <td>0</td>\n",
       "    </tr>\n",
       "    <tr>\n",
       "      <th>31</th>\n",
       "      <td>Property Crime Index</td>\n",
       "      <td>871370</td>\n",
       "      <td>74680</td>\n",
       "      <td>796690</td>\n",
       "      <td>74450</td>\n",
       "      <td>21350</td>\n",
       "      <td>53330</td>\n",
       "      <td>70660</td>\n",
       "      <td>91640</td>\n",
       "      <td>634390</td>\n",
       "    </tr>\n",
       "    <tr>\n",
       "      <th>32</th>\n",
       "      <td>Violent crimes*</td>\n",
       "      <td>461540</td>\n",
       "      <td>32070</td>\n",
       "      <td>429470</td>\n",
       "      <td>31970</td>\n",
       "      <td>8140</td>\n",
       "      <td>23930</td>\n",
       "      <td>39020</td>\n",
       "      <td>57860</td>\n",
       "      <td>332580</td>\n",
       "    </tr>\n",
       "  </tbody>\n",
       "</table>\n",
       "</div>"
      ],
      "text/plain": [
       "                                           Offenses All ages 0 to 17  \\\n",
       "2                                      All offenses  7632470  424300   \n",
       "3              Murder and nonnegligent manslaughter    12440     930   \n",
       "5                                           Robbery    67900   12000   \n",
       "6                                Aggravated assault   381190   19140   \n",
       "7                                          Burglary   149350   15130   \n",
       "8                                     Larceny-theft   629020   46700   \n",
       "9                               Motor vehicle theft    83220   11660   \n",
       "10                                            Arson     9780    1200   \n",
       "11                                   Simple assault   906980   70940   \n",
       "12                       Forgery and counterfeiting    32500     470   \n",
       "13                                            Fraud    79520    2620   \n",
       "14                                     Embezzlement     9390     430   \n",
       "15  Stolen property (buying, receiving, possessing)    88320    8190   \n",
       "16                                        Vandalism   173770   23130   \n",
       "17             Weapons (carrying, possessing, etc.)   166200   11110   \n",
       "18             Prostitution and commercialized vice    16770     110   \n",
       "20                            Drug abuse violations  1155610   42280   \n",
       "21                                         Gambling     1630      70   \n",
       "22         Offenses against the family and children    59400    2420   \n",
       "23                      Driving under the influence   778910    5870   \n",
       "24                                      Liquor laws   104200   17910   \n",
       "25                                      Drunkenness   194250    2390   \n",
       "26                               Disorderly conduct   225800   24720   \n",
       "27                                         Vagrancy    13650     250   \n",
       "28              All other offenses (except traffic)  2228330   85970   \n",
       "29                             Curfew and loitering    11680   11680   \n",
       "31                             Property Crime Index   871370   74680   \n",
       "32                                  Violent crimes*   461540   32070   \n",
       "\n",
       "   18 & older 10 to 17 0 to 14 15 to 17 18 to 20 21 to 24 25 & older  \n",
       "2     7208180   422640  121930   302370   592260   894730    5721190  \n",
       "3       11510      930      90      840     1820     2140       7550  \n",
       "5       55900    12000    2490     9510    10610     9420      35880  \n",
       "6      362050    19050    5560    13580    26590    46300     289160  \n",
       "7      134230    15040    4830    10300    12300    16050     105870  \n",
       "8      582320    46600   12530    34180    50640    65240     466450  \n",
       "9       71560    11650    3340     8320     7270     9570      54720  \n",
       "10       8580     1160     660      540      450      780       7350  \n",
       "11     836040    70610   27250    43690    59560   103620     672860  \n",
       "12      32030      470      70      400     3230     3510      25300  \n",
       "13      76900     2620     670     1950     5660     8790      62440  \n",
       "14       8960      430      10      420     1410     1360       6200  \n",
       "15      80130     8190    1740     6450     8620    10730      60770  \n",
       "16     150640    22900    9130    14010    15640    21470     113530  \n",
       "17     155090    11090    2060     9050    19990    29250     105850  \n",
       "18      16660      110      20       90     1940     3110      11610  \n",
       "20    1113330    42250    6520    35770   111310   151370     850640  \n",
       "21       1550       70      10       60       90      130       1330  \n",
       "22      56980     2390     780     1630     2630     5350      49000  \n",
       "23     773040     5870      90     5780    44020   107610     621400  \n",
       "24      86290    17910    2220    15690    39360     7020      39900  \n",
       "25     191860     2390     380     2010     9370    20200     162290  \n",
       "26     201080    24590    9820    14900    17520    26210     157350  \n",
       "27      13400      250      60      190     1010     1220      11170  \n",
       "28    2142360    85520   24400    61570   136500   239180    1766680  \n",
       "29          0    11660    3980     7700        0        0          0  \n",
       "31     796690    74450   21350    53330    70660    91640     634390  \n",
       "32     429470    31970    8140    23930    39020    57860     332580  "
      ]
     },
     "execution_count": 20,
     "metadata": {},
     "output_type": "execute_result"
    }
   ],
   "source": [
    "USpoliceage"
   ]
  },
  {
   "cell_type": "code",
   "execution_count": 43,
   "id": "b70acec8-2ffb-40f8-9bb5-c6ff49a37c54",
   "metadata": {},
   "outputs": [
    {
     "name": "stdout",
     "output_type": "stream",
     "text": [
      "['white', 'white', 'white', 'white']\n",
      "['red', 'green', 'blue', 'yellow']\n",
      "['red', 'green', 'blue', 'purple']\n"
     ]
    }
   ],
   "source": [
    "\n"
   ]
  },
  {
   "cell_type": "code",
   "execution_count": null,
   "id": "1f4d05b5-a22b-477a-8d4d-afae36df9b87",
   "metadata": {},
   "outputs": [],
   "source": []
  }
 ],
 "metadata": {
  "kernelspec": {
   "display_name": "Python 3 (ipykernel)",
   "language": "python",
   "name": "python3"
  },
  "language_info": {
   "codemirror_mode": {
    "name": "ipython",
    "version": 3
   },
   "file_extension": ".py",
   "mimetype": "text/x-python",
   "name": "python",
   "nbconvert_exporter": "python",
   "pygments_lexer": "ipython3",
   "version": "3.10.5"
  },
  "widgets": {
   "application/vnd.jupyter.widget-state+json": {
    "state": {},
    "version_major": 2,
    "version_minor": 0
   }
  }
 },
 "nbformat": 4,
 "nbformat_minor": 5
}
