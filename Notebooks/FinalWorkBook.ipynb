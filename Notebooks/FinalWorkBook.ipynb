{
 "cells": [
  {
   "cell_type": "code",
   "execution_count": 84,
   "id": "5d4635fe-becf-45e0-a271-88c88b3fb420",
   "metadata": {},
   "outputs": [],
   "source": [
    "df= pd.read_excel(\"../CuriousConquersProject/DATA/CleanedDataSets/USDataWorkbook.xlsx\")"
   ]
  },
  {
   "cell_type": "code",
   "execution_count": 85,
   "id": "bf6a64d5-f16d-4c7f-8a85-c71776b8cca0",
   "metadata": {},
   "outputs": [
    {
     "data": {
      "text/html": [
       "<div>\n",
       "<style scoped>\n",
       "    .dataframe tbody tr th:only-of-type {\n",
       "        vertical-align: middle;\n",
       "    }\n",
       "\n",
       "    .dataframe tbody tr th {\n",
       "        vertical-align: top;\n",
       "    }\n",
       "\n",
       "    .dataframe thead th {\n",
       "        text-align: right;\n",
       "    }\n",
       "</style>\n",
       "<table border=\"1\" class=\"dataframe\">\n",
       "  <thead>\n",
       "    <tr style=\"text-align: right;\">\n",
       "      <th></th>\n",
       "      <th>State</th>\n",
       "      <th>Urate</th>\n",
       "      <th>Pop. 2021</th>\n",
       "      <th>Change 2020-21</th>\n",
       "      <th>PoliceReports</th>\n",
       "      <th>ViolentCrime</th>\n",
       "      <th>PropertyCrime</th>\n",
       "      <th>PrisonPopulation</th>\n",
       "      <th>Violentprison</th>\n",
       "      <th>PropertyPrison</th>\n",
       "    </tr>\n",
       "  </thead>\n",
       "  <tbody>\n",
       "    <tr>\n",
       "      <th>0</th>\n",
       "      <td>Alabama</td>\n",
       "      <td>3.4</td>\n",
       "      <td>5039877</td>\n",
       "      <td>-0.001</td>\n",
       "      <td>1306008</td>\n",
       "      <td>10304</td>\n",
       "      <td>49516</td>\n",
       "      <td>21837</td>\n",
       "      <td>59.6</td>\n",
       "      <td>17.0</td>\n",
       "    </tr>\n",
       "    <tr>\n",
       "      <th>1</th>\n",
       "      <td>Alaska</td>\n",
       "      <td>6.4</td>\n",
       "      <td>732673</td>\n",
       "      <td>0.017</td>\n",
       "      <td>105121</td>\n",
       "      <td>625</td>\n",
       "      <td>1296</td>\n",
       "      <td>4639</td>\n",
       "      <td>81.7</td>\n",
       "      <td>4.4</td>\n",
       "    </tr>\n",
       "    <tr>\n",
       "      <th>2</th>\n",
       "      <td>Arizona</td>\n",
       "      <td>4.9</td>\n",
       "      <td>7276316</td>\n",
       "      <td>0.005</td>\n",
       "      <td>2670014</td>\n",
       "      <td>7137</td>\n",
       "      <td>45939</td>\n",
       "      <td>40753</td>\n",
       "      <td>43.8</td>\n",
       "      <td>20.8</td>\n",
       "    </tr>\n",
       "    <tr>\n",
       "      <th>3</th>\n",
       "      <td>Arkansas</td>\n",
       "      <td>4.0</td>\n",
       "      <td>3025891</td>\n",
       "      <td>-0.008</td>\n",
       "      <td>1824677</td>\n",
       "      <td>15643</td>\n",
       "      <td>59644</td>\n",
       "      <td>14078</td>\n",
       "      <td>55.6</td>\n",
       "      <td>13.2</td>\n",
       "    </tr>\n",
       "    <tr>\n",
       "      <th>4</th>\n",
       "      <td>California</td>\n",
       "      <td>7.3</td>\n",
       "      <td>39237836</td>\n",
       "      <td>0.007</td>\n",
       "      <td>2376930</td>\n",
       "      <td>183546</td>\n",
       "      <td>857599</td>\n",
       "      <td>96110</td>\n",
       "      <td>84.3</td>\n",
       "      <td>7.3</td>\n",
       "    </tr>\n",
       "  </tbody>\n",
       "</table>\n",
       "</div>"
      ],
      "text/plain": [
       "        State  Urate  Pop. 2021  Change 2020-21  PoliceReports  ViolentCrime  \\\n",
       "0     Alabama    3.4    5039877          -0.001        1306008         10304   \n",
       "1      Alaska    6.4     732673           0.017         105121           625   \n",
       "2     Arizona    4.9    7276316           0.005        2670014          7137   \n",
       "3    Arkansas    4.0    3025891          -0.008        1824677         15643   \n",
       "4  California    7.3   39237836           0.007        2376930        183546   \n",
       "\n",
       "   PropertyCrime  PrisonPopulation  Violentprison  PropertyPrison  \n",
       "0          49516             21837           59.6            17.0  \n",
       "1           1296              4639           81.7             4.4  \n",
       "2          45939             40753           43.8            20.8  \n",
       "3          59644             14078           55.6            13.2  \n",
       "4         857599             96110           84.3             7.3  "
      ]
     },
     "execution_count": 85,
     "metadata": {},
     "output_type": "execute_result"
    }
   ],
   "source": [
    "df.head()"
   ]
  },
  {
   "cell_type": "markdown",
   "id": "7791fa01-df5f-464e-a1a6-5ef508bc8155",
   "metadata": {},
   "source": [
    "## Question One\n",
    "#### Does the unemployment rate correlate with crime rate?\n"
   ]
  },
  {
   "cell_type": "markdown",
   "id": "ccc3d3ea-318b-42a6-933e-5af73c56f127",
   "metadata": {},
   "source": [
    "#### Unemployment Rate Hisogram"
   ]
  },
  {
   "cell_type": "code",
   "execution_count": 86,
   "id": "4acd6b96-b76a-4140-af87-12cb7a402f7d",
   "metadata": {},
   "outputs": [
    {
     "data": {
      "text/plain": [
       "<AxesSubplot: >"
      ]
     },
     "execution_count": 86,
     "metadata": {},
     "output_type": "execute_result"
    },
    {
     "data": {
      "image/png": "[encoded data removed]",
      "text/plain": [
       "<Figure size 432x288 with 1 Axes>"
      ]
     },
     "metadata": {
      "needs_background": "light"
     },
     "output_type": "display_data"
    }
   ],
   "source": [
    "df['Urate'].hist()"
   ]
  },
  {
   "cell_type": "markdown",
   "id": "cedef961-427c-48b9-a381-d211d11a2b5d",
   "metadata": {},
   "source": [
    "Looks normal"
   ]
  },
  {
   "cell_type": "markdown",
   "id": "276a53bd-8064-48f4-98b0-f5a134e237dd",
   "metadata": {},
   "source": [
    "No trasformation needed"
   ]
  },
  {
   "cell_type": "code",
   "execution_count": 87,
   "id": "358620ec-c781-4c0b-a595-f13664ef7674",
   "metadata": {},
   "outputs": [
    {
     "data": {
      "text/plain": [
       "4.804"
      ]
     },
     "execution_count": 87,
     "metadata": {},
     "output_type": "execute_result"
    }
   ],
   "source": [
    "df.Urate.mean()"
   ]
  },
  {
   "cell_type": "markdown",
   "id": "87c9a0e9-301a-49b7-8747-ba065328be22",
   "metadata": {},
   "source": [
    "#### T-test"
   ]
  },
  {
   "cell_type": "code",
   "execution_count": 88,
   "id": "abad5a63-2965-4276-b827-35a6add5c425",
   "metadata": {},
   "outputs": [
    {
     "data": {
      "text/plain": [
       "5.7"
      ]
     },
     "execution_count": 88,
     "metadata": {},
     "output_type": "execute_result"
    }
   ],
   "source": [
    "TexasUR=df.at[42,'Urate']\n",
    "TexasUR"
   ]
  },
  {
   "cell_type": "code",
   "execution_count": 89,
   "id": "e0d1d427-362e-465f-a9c9-a0b6ff32aced",
   "metadata": {},
   "outputs": [
    {
     "data": {
      "text/plain": [
       "Ttest_1sampResult(statistic=-5.172382879513204, pvalue=4.271989287970536e-06)"
      ]
     },
     "execution_count": 89,
     "metadata": {},
     "output_type": "execute_result"
    }
   ],
   "source": [
    "stats.ttest_1samp(df['Urate'],TexasUR)"
   ]
  },
  {
   "cell_type": "markdown",
   "id": "b33c0b72-dd88-45bb-b03a-5e5b2493bd94",
   "metadata": {},
   "source": [
    "##### Texas a significantly higher unemployment rate"
   ]
  },
  {
   "cell_type": "code",
   "execution_count": 90,
   "id": "88877446-96a9-4424-84b0-ce92cacc424f",
   "metadata": {},
   "outputs": [
    {
     "data": {
      "text/plain": [
       "4.2"
      ]
     },
     "execution_count": 90,
     "metadata": {},
     "output_type": "execute_result"
    }
   ],
   "source": [
    "IowaUR=df.at[14,'Urate']\n",
    "IowaUR"
   ]
  },
  {
   "cell_type": "code",
   "execution_count": 91,
   "id": "19df87eb-986a-4075-82b4-97ddbfac7f60",
   "metadata": {},
   "outputs": [
    {
     "data": {
      "text/plain": [
       "Ttest_1sampResult(statistic=3.4867402446718483, pvalue=0.0010418554527268562)"
      ]
     },
     "execution_count": 91,
     "metadata": {},
     "output_type": "execute_result"
    }
   ],
   "source": [
    "stats.ttest_1samp(df['Urate'],IowaUR)"
   ]
  },
  {
   "cell_type": "code",
   "execution_count": 92,
   "id": "777aa513-f08b-42d7-9650-296c38a58a92",
   "metadata": {},
   "outputs": [
    {
     "data": {
      "text/plain": [
       "4.6"
      ]
     },
     "execution_count": 92,
     "metadata": {},
     "output_type": "execute_result"
    }
   ],
   "source": [
    "FloridaUR=df.at[8,'Urate']\n",
    "FloridaUR"
   ]
  },
  {
   "cell_type": "code",
   "execution_count": 93,
   "id": "510a9e34-533e-42cf-87d3-a5b16ef19e94",
   "metadata": {},
   "outputs": [
    {
     "data": {
      "text/plain": [
       "Ttest_1sampResult(statistic=1.1776407448891708, pvalue=0.24462810722852374)"
      ]
     },
     "execution_count": 93,
     "metadata": {},
     "output_type": "execute_result"
    }
   ],
   "source": [
    "stats.ttest_1samp(df['Urate'],FloridaUR)"
   ]
  },
  {
   "cell_type": "markdown",
   "id": "9b48984b-4f32-47b3-adbc-1b7e023a5755",
   "metadata": {},
   "source": [
    "##### No significance in unempolyment rate for\n",
    "##### Florida and Iowa \n",
    "Showing have a average unemployment rate"
   ]
  },
  {
   "cell_type": "markdown",
   "id": "16399a08-3f94-4a83-b458-f74e2b91d2fb",
   "metadata": {},
   "source": [
    "#### Police Report Histogram"
   ]
  },
  {
   "cell_type": "code",
   "execution_count": 94,
   "id": "c6492789-ae24-4efa-868a-e5ee17c6872b",
   "metadata": {},
   "outputs": [
    {
     "data": {
      "text/plain": [
       "<AxesSubplot: >"
      ]
     },
     "execution_count": 94,
     "metadata": {},
     "output_type": "execute_result"
    },
    {
     "data": {
      "image/png": "[encoded data removed]",
      "text/plain": [
       "<Figure size 432x288 with 1 Axes>"
      ]
     },
     "metadata": {
      "needs_background": "light"
     },
     "output_type": "display_data"
    }
   ],
   "source": [
    "df['PoliceReports'].hist()"
   ]
  },
  {
   "cell_type": "markdown",
   "id": "cb9700a7-4ae6-4d39-860b-5a6f51a2120e",
   "metadata": {},
   "source": [
    "It is quite positively skewed! "
   ]
  },
  {
   "cell_type": "markdown",
   "id": "30d13235-f1dd-40e3-8463-329ead451a81",
   "metadata": {},
   "source": [
    "#### Square root transformation"
   ]
  },
  {
   "cell_type": "code",
   "execution_count": 95,
   "id": "1013555b-54d3-4691-a969-8bc4ab8700e5",
   "metadata": {},
   "outputs": [
    {
     "data": {
      "text/plain": [
       "<AxesSubplot: >"
      ]
     },
     "execution_count": 95,
     "metadata": {},
     "output_type": "execute_result"
    },
    {
     "data": {
      "image/png": "[encoded data removed]",
      "text/plain": [
       "<Figure size 432x288 with 1 Axes>"
      ]
     },
     "metadata": {
      "needs_background": "light"
     },
     "output_type": "display_data"
    }
   ],
   "source": [
    "df['PoliceReports_SQRT']=np.sqrt(df['PoliceReports'])\n",
    "df['PoliceReports_SQRT'].hist()"
   ]
  },
  {
   "cell_type": "markdown",
   "id": "9447ae8e-7ce5-4bb8-9828-cdacf06f013f",
   "metadata": {},
   "source": [
    "#### LOG\n",
    "transformation"
   ]
  },
  {
   "cell_type": "code",
   "execution_count": 96,
   "id": "582f8054-8d63-46a8-9a45-f49f36c977ac",
   "metadata": {},
   "outputs": [
    {
     "data": {
      "text/plain": [
       "<AxesSubplot: >"
      ]
     },
     "execution_count": 96,
     "metadata": {},
     "output_type": "execute_result"
    },
    {
     "data": {
      "image/png": "[encoded data removed]",
      "text/plain": [
       "<Figure size 432x288 with 1 Axes>"
      ]
     },
     "metadata": {
      "needs_background": "light"
     },
     "output_type": "display_data"
    }
   ],
   "source": [
    "df['PoliceReports_LOG']=np.log(df['PoliceReports'])\n",
    "df['PoliceReports_LOG'].hist()"
   ]
  },
  {
   "cell_type": "markdown",
   "id": "c2e59b18-5bdc-4202-93bc-ce784a8a547e",
   "metadata": {},
   "source": [
    "Using LOG"
   ]
  },
  {
   "cell_type": "code",
   "execution_count": 98,
   "id": "b41dfaf9-ab6e-439d-8fd7-b1f6eaeb3d62",
   "metadata": {},
   "outputs": [
    {
     "data": {
      "text/plain": [
       "2621942.3"
      ]
     },
     "execution_count": 98,
     "metadata": {},
     "output_type": "execute_result"
    }
   ],
   "source": [
    "df['PoliceReports'].mean()"
   ]
  },
  {
   "cell_type": "code",
   "execution_count": 99,
   "id": "d6043056-4158-4be8-9853-5124784c6199",
   "metadata": {},
   "outputs": [
    {
     "data": {
      "text/plain": [
       "5431384"
      ]
     },
     "execution_count": 99,
     "metadata": {},
     "output_type": "execute_result"
    }
   ],
   "source": [
    "FloridaRP=df.at[8,'PoliceReports']\n",
    "FloridaRP\n"
   ]
  },
  {
   "cell_type": "code",
   "execution_count": 100,
   "id": "50c3c4d2-1677-483a-8cf2-596185aa55cd",
   "metadata": {},
   "outputs": [
    {
     "data": {
      "text/plain": [
       "Ttest_1sampResult(statistic=-6.250539504797936, pvalue=9.60763314272084e-08)"
      ]
     },
     "execution_count": 100,
     "metadata": {},
     "output_type": "execute_result"
    }
   ],
   "source": [
    "stats.ttest_1samp(df['PoliceReports'],FloridaRP)"
   ]
  },
  {
   "cell_type": "code",
   "execution_count": 101,
   "id": "e0e7c5e6-3476-46cb-a685-158bcdff1009",
   "metadata": {},
   "outputs": [
    {
     "data": {
      "text/plain": [
       "20783195"
      ]
     },
     "execution_count": 101,
     "metadata": {},
     "output_type": "execute_result"
    }
   ],
   "source": [
    "TexasRP=df.at[42,'PoliceReports']\n",
    "TexasRP"
   ]
  },
  {
   "cell_type": "code",
   "execution_count": 102,
   "id": "f3c24c0c-bf3e-4dc1-a9f1-305a52aafcd8",
   "metadata": {},
   "outputs": [
    {
     "data": {
      "text/plain": [
       "Ttest_1sampResult(statistic=-40.40576014016171, pvalue=2.7556833782639504e-39)"
      ]
     },
     "execution_count": 102,
     "metadata": {},
     "output_type": "execute_result"
    }
   ],
   "source": [
    "stats.ttest_1samp(df['PoliceReports'],TexasRP)"
   ]
  },
  {
   "cell_type": "markdown",
   "id": "9ec6bd05-d165-47ed-b830-6e09dac2b57e",
   "metadata": {},
   "source": [
    "Texas and Florida have signifcantly higher number of police reports"
   ]
  },
  {
   "cell_type": "code",
   "execution_count": 103,
   "id": "5d65e057-eedd-47a6-960c-7a3b59128ee6",
   "metadata": {},
   "outputs": [
    {
     "data": {
      "text/plain": [
       "1919259"
      ]
     },
     "execution_count": 103,
     "metadata": {},
     "output_type": "execute_result"
    }
   ],
   "source": [
    "IowaRP=df.at[14,'PoliceReports']\n",
    "IowaRP"
   ]
  },
  {
   "cell_type": "code",
   "execution_count": 104,
   "id": "46a6b7f1-42d8-4498-bbc1-ea728ad3eb26",
   "metadata": {},
   "outputs": [
    {
     "data": {
      "text/plain": [
       "Ttest_1sampResult(statistic=1.5633532192576831, pvalue=0.1244056211089517)"
      ]
     },
     "execution_count": 104,
     "metadata": {},
     "output_type": "execute_result"
    }
   ],
   "source": [
    "stats.ttest_1samp(df['PoliceReports'],IowaRP)"
   ]
  },
  {
   "cell_type": "markdown",
   "id": "3a27be98-745a-4610-afcf-4db81e290083",
   "metadata": {},
   "source": [
    "Iowa has an average amount of police reports"
   ]
  },
  {
   "cell_type": "markdown",
   "id": "73709eee-4537-4ebc-baa2-795d371c4d24",
   "metadata": {
    "tags": []
   },
   "source": [
    "### Correlation Test"
   ]
  },
  {
   "cell_type": "code",
   "execution_count": 105,
   "id": "3d043e1f-dcdc-4145-8484-3eb61fbcd01e",
   "metadata": {
    "tags": []
   },
   "outputs": [
    {
     "data": {
      "text/plain": [
       "0.0269956570920501"
      ]
     },
     "execution_count": 105,
     "metadata": {},
     "output_type": "execute_result"
    }
   ],
   "source": [
    "df['PoliceReports_LOG'].corr(df['Urate'])"
   ]
  },
  {
   "cell_type": "markdown",
   "id": "ec89d356-7e14-4fe3-b3ce-e5c49011b0a0",
   "metadata": {},
   "source": [
    "Very weak correlation"
   ]
  },
  {
   "cell_type": "code",
   "execution_count": 106,
   "id": "e0091b76-15d9-43a8-a2f3-27faa7ae1dba",
   "metadata": {},
   "outputs": [],
   "source": [
    "df.drop(['Change 2020-21'],axis=1, inplace=True)"
   ]
  },
  {
   "cell_type": "code",
   "execution_count": 107,
   "id": "dcc1afc8-d7ba-4ac1-9519-0ae5cac5edd1",
   "metadata": {},
   "outputs": [
    {
     "name": "stderr",
     "output_type": "stream",
     "text": [
      "C:\\Users\\dell\\AppData\\Local\\Temp\\ipykernel_15576\\933052293.py:1: FutureWarning: The default value of numeric_only in DataFrame.corr is deprecated. In a future version, it will default to False. Select only valid columns or specify the value of numeric_only to silence this warning.\n",
      "  df.corr(method='pearson').style.format(\"{:.2}\")\n"
     ]
    },
    {
     "data": {
      "text/html": [
       "<style type=\"text/css\">\n",
       "</style>\n",
       "<table id=\"T_2f395\">\n",
       "  <thead>\n",
       "    <tr>\n",
       "      <th class=\"blank level0\" >&nbsp;</th>\n",
       "      <th id=\"T_2f395_level0_col0\" class=\"col_heading level0 col0\" >Urate</th>\n",
       "      <th id=\"T_2f395_level0_col1\" class=\"col_heading level0 col1\" >Pop. 2021</th>\n",
       "      <th id=\"T_2f395_level0_col2\" class=\"col_heading level0 col2\" >PoliceReports</th>\n",
       "      <th id=\"T_2f395_level0_col3\" class=\"col_heading level0 col3\" >ViolentCrime</th>\n",
       "      <th id=\"T_2f395_level0_col4\" class=\"col_heading level0 col4\" >PropertyCrime</th>\n",
       "      <th id=\"T_2f395_level0_col5\" class=\"col_heading level0 col5\" >PrisonPopulation</th>\n",
       "      <th id=\"T_2f395_level0_col6\" class=\"col_heading level0 col6\" >Violentprison</th>\n",
       "      <th id=\"T_2f395_level0_col7\" class=\"col_heading level0 col7\" >PropertyPrison</th>\n",
       "      <th id=\"T_2f395_level0_col8\" class=\"col_heading level0 col8\" >PoliceReports_SQRT</th>\n",
       "      <th id=\"T_2f395_level0_col9\" class=\"col_heading level0 col9\" >PoliceReports_LOG</th>\n",
       "    </tr>\n",
       "  </thead>\n",
       "  <tbody>\n",
       "    <tr>\n",
       "      <th id=\"T_2f395_level0_row0\" class=\"row_heading level0 row0\" >Urate</th>\n",
       "      <td id=\"T_2f395_row0_col0\" class=\"data row0 col0\" >1.0</td>\n",
       "      <td id=\"T_2f395_row0_col1\" class=\"data row0 col1\" >0.41</td>\n",
       "      <td id=\"T_2f395_row0_col2\" class=\"data row0 col2\" >0.13</td>\n",
       "      <td id=\"T_2f395_row0_col3\" class=\"data row0 col3\" >0.29</td>\n",
       "      <td id=\"T_2f395_row0_col4\" class=\"data row0 col4\" >0.29</td>\n",
       "      <td id=\"T_2f395_row0_col5\" class=\"data row0 col5\" >0.3</td>\n",
       "      <td id=\"T_2f395_row0_col6\" class=\"data row0 col6\" >0.27</td>\n",
       "      <td id=\"T_2f395_row0_col7\" class=\"data row0 col7\" >-0.2</td>\n",
       "      <td id=\"T_2f395_row0_col8\" class=\"data row0 col8\" >0.1</td>\n",
       "      <td id=\"T_2f395_row0_col9\" class=\"data row0 col9\" >0.027</td>\n",
       "    </tr>\n",
       "    <tr>\n",
       "      <th id=\"T_2f395_level0_row1\" class=\"row_heading level0 row1\" >Pop. 2021</th>\n",
       "      <td id=\"T_2f395_row1_col0\" class=\"data row1 col0\" >0.41</td>\n",
       "      <td id=\"T_2f395_row1_col1\" class=\"data row1 col1\" >1.0</td>\n",
       "      <td id=\"T_2f395_row1_col2\" class=\"data row1 col2\" >0.57</td>\n",
       "      <td id=\"T_2f395_row1_col3\" class=\"data row1 col3\" >0.87</td>\n",
       "      <td id=\"T_2f395_row1_col4\" class=\"data row1 col4\" >0.84</td>\n",
       "      <td id=\"T_2f395_row1_col5\" class=\"data row1 col5\" >0.92</td>\n",
       "      <td id=\"T_2f395_row1_col6\" class=\"data row1 col6\" >0.38</td>\n",
       "      <td id=\"T_2f395_row1_col7\" class=\"data row1 col7\" >-0.23</td>\n",
       "      <td id=\"T_2f395_row1_col8\" class=\"data row1 col8\" >0.57</td>\n",
       "      <td id=\"T_2f395_row1_col9\" class=\"data row1 col9\" >0.49</td>\n",
       "    </tr>\n",
       "    <tr>\n",
       "      <th id=\"T_2f395_level0_row2\" class=\"row_heading level0 row2\" >PoliceReports</th>\n",
       "      <td id=\"T_2f395_row2_col0\" class=\"data row2 col0\" >0.13</td>\n",
       "      <td id=\"T_2f395_row2_col1\" class=\"data row2 col1\" >0.57</td>\n",
       "      <td id=\"T_2f395_row2_col2\" class=\"data row2 col2\" >1.0</td>\n",
       "      <td id=\"T_2f395_row2_col3\" class=\"data row2 col3\" >0.55</td>\n",
       "      <td id=\"T_2f395_row2_col4\" class=\"data row2 col4\" >0.55</td>\n",
       "      <td id=\"T_2f395_row2_col5\" class=\"data row2 col5\" >0.69</td>\n",
       "      <td id=\"T_2f395_row2_col6\" class=\"data row2 col6\" >0.14</td>\n",
       "      <td id=\"T_2f395_row2_col7\" class=\"data row2 col7\" >-0.12</td>\n",
       "      <td id=\"T_2f395_row2_col8\" class=\"data row2 col8\" >0.93</td>\n",
       "      <td id=\"T_2f395_row2_col9\" class=\"data row2 col9\" >0.75</td>\n",
       "    </tr>\n",
       "    <tr>\n",
       "      <th id=\"T_2f395_level0_row3\" class=\"row_heading level0 row3\" >ViolentCrime</th>\n",
       "      <td id=\"T_2f395_row3_col0\" class=\"data row3 col0\" >0.29</td>\n",
       "      <td id=\"T_2f395_row3_col1\" class=\"data row3 col1\" >0.87</td>\n",
       "      <td id=\"T_2f395_row3_col2\" class=\"data row3 col2\" >0.55</td>\n",
       "      <td id=\"T_2f395_row3_col3\" class=\"data row3 col3\" >1.0</td>\n",
       "      <td id=\"T_2f395_row3_col4\" class=\"data row3 col4\" >0.97</td>\n",
       "      <td id=\"T_2f395_row3_col5\" class=\"data row3 col5\" >0.83</td>\n",
       "      <td id=\"T_2f395_row3_col6\" class=\"data row3 col6\" >0.37</td>\n",
       "      <td id=\"T_2f395_row3_col7\" class=\"data row3 col7\" >-0.18</td>\n",
       "      <td id=\"T_2f395_row3_col8\" class=\"data row3 col8\" >0.54</td>\n",
       "      <td id=\"T_2f395_row3_col9\" class=\"data row3 col9\" >0.47</td>\n",
       "    </tr>\n",
       "    <tr>\n",
       "      <th id=\"T_2f395_level0_row4\" class=\"row_heading level0 row4\" >PropertyCrime</th>\n",
       "      <td id=\"T_2f395_row4_col0\" class=\"data row4 col0\" >0.29</td>\n",
       "      <td id=\"T_2f395_row4_col1\" class=\"data row4 col1\" >0.84</td>\n",
       "      <td id=\"T_2f395_row4_col2\" class=\"data row4 col2\" >0.55</td>\n",
       "      <td id=\"T_2f395_row4_col3\" class=\"data row4 col3\" >0.97</td>\n",
       "      <td id=\"T_2f395_row4_col4\" class=\"data row4 col4\" >1.0</td>\n",
       "      <td id=\"T_2f395_row4_col5\" class=\"data row4 col5\" >0.77</td>\n",
       "      <td id=\"T_2f395_row4_col6\" class=\"data row4 col6\" >0.38</td>\n",
       "      <td id=\"T_2f395_row4_col7\" class=\"data row4 col7\" >-0.2</td>\n",
       "      <td id=\"T_2f395_row4_col8\" class=\"data row4 col8\" >0.54</td>\n",
       "      <td id=\"T_2f395_row4_col9\" class=\"data row4 col9\" >0.46</td>\n",
       "    </tr>\n",
       "    <tr>\n",
       "      <th id=\"T_2f395_level0_row5\" class=\"row_heading level0 row5\" >PrisonPopulation</th>\n",
       "      <td id=\"T_2f395_row5_col0\" class=\"data row5 col0\" >0.3</td>\n",
       "      <td id=\"T_2f395_row5_col1\" class=\"data row5 col1\" >0.92</td>\n",
       "      <td id=\"T_2f395_row5_col2\" class=\"data row5 col2\" >0.69</td>\n",
       "      <td id=\"T_2f395_row5_col3\" class=\"data row5 col3\" >0.83</td>\n",
       "      <td id=\"T_2f395_row5_col4\" class=\"data row5 col4\" >0.77</td>\n",
       "      <td id=\"T_2f395_row5_col5\" class=\"data row5 col5\" >1.0</td>\n",
       "      <td id=\"T_2f395_row5_col6\" class=\"data row5 col6\" >0.28</td>\n",
       "      <td id=\"T_2f395_row5_col7\" class=\"data row5 col7\" >-0.1</td>\n",
       "      <td id=\"T_2f395_row5_col8\" class=\"data row5 col8\" >0.65</td>\n",
       "      <td id=\"T_2f395_row5_col9\" class=\"data row5 col9\" >0.54</td>\n",
       "    </tr>\n",
       "    <tr>\n",
       "      <th id=\"T_2f395_level0_row6\" class=\"row_heading level0 row6\" >Violentprison</th>\n",
       "      <td id=\"T_2f395_row6_col0\" class=\"data row6 col0\" >0.27</td>\n",
       "      <td id=\"T_2f395_row6_col1\" class=\"data row6 col1\" >0.38</td>\n",
       "      <td id=\"T_2f395_row6_col2\" class=\"data row6 col2\" >0.14</td>\n",
       "      <td id=\"T_2f395_row6_col3\" class=\"data row6 col3\" >0.37</td>\n",
       "      <td id=\"T_2f395_row6_col4\" class=\"data row6 col4\" >0.38</td>\n",
       "      <td id=\"T_2f395_row6_col5\" class=\"data row6 col5\" >0.28</td>\n",
       "      <td id=\"T_2f395_row6_col6\" class=\"data row6 col6\" >1.0</td>\n",
       "      <td id=\"T_2f395_row6_col7\" class=\"data row6 col7\" >-0.58</td>\n",
       "      <td id=\"T_2f395_row6_col8\" class=\"data row6 col8\" >0.084</td>\n",
       "      <td id=\"T_2f395_row6_col9\" class=\"data row6 col9\" >-0.034</td>\n",
       "    </tr>\n",
       "    <tr>\n",
       "      <th id=\"T_2f395_level0_row7\" class=\"row_heading level0 row7\" >PropertyPrison</th>\n",
       "      <td id=\"T_2f395_row7_col0\" class=\"data row7 col0\" >-0.2</td>\n",
       "      <td id=\"T_2f395_row7_col1\" class=\"data row7 col1\" >-0.23</td>\n",
       "      <td id=\"T_2f395_row7_col2\" class=\"data row7 col2\" >-0.12</td>\n",
       "      <td id=\"T_2f395_row7_col3\" class=\"data row7 col3\" >-0.18</td>\n",
       "      <td id=\"T_2f395_row7_col4\" class=\"data row7 col4\" >-0.2</td>\n",
       "      <td id=\"T_2f395_row7_col5\" class=\"data row7 col5\" >-0.1</td>\n",
       "      <td id=\"T_2f395_row7_col6\" class=\"data row7 col6\" >-0.58</td>\n",
       "      <td id=\"T_2f395_row7_col7\" class=\"data row7 col7\" >1.0</td>\n",
       "      <td id=\"T_2f395_row7_col8\" class=\"data row7 col8\" >-0.054</td>\n",
       "      <td id=\"T_2f395_row7_col9\" class=\"data row7 col9\" >0.068</td>\n",
       "    </tr>\n",
       "    <tr>\n",
       "      <th id=\"T_2f395_level0_row8\" class=\"row_heading level0 row8\" >PoliceReports_SQRT</th>\n",
       "      <td id=\"T_2f395_row8_col0\" class=\"data row8 col0\" >0.1</td>\n",
       "      <td id=\"T_2f395_row8_col1\" class=\"data row8 col1\" >0.57</td>\n",
       "      <td id=\"T_2f395_row8_col2\" class=\"data row8 col2\" >0.93</td>\n",
       "      <td id=\"T_2f395_row8_col3\" class=\"data row8 col3\" >0.54</td>\n",
       "      <td id=\"T_2f395_row8_col4\" class=\"data row8 col4\" >0.54</td>\n",
       "      <td id=\"T_2f395_row8_col5\" class=\"data row8 col5\" >0.65</td>\n",
       "      <td id=\"T_2f395_row8_col6\" class=\"data row8 col6\" >0.084</td>\n",
       "      <td id=\"T_2f395_row8_col7\" class=\"data row8 col7\" >-0.054</td>\n",
       "      <td id=\"T_2f395_row8_col8\" class=\"data row8 col8\" >1.0</td>\n",
       "      <td id=\"T_2f395_row8_col9\" class=\"data row8 col9\" >0.93</td>\n",
       "    </tr>\n",
       "    <tr>\n",
       "      <th id=\"T_2f395_level0_row9\" class=\"row_heading level0 row9\" >PoliceReports_LOG</th>\n",
       "      <td id=\"T_2f395_row9_col0\" class=\"data row9 col0\" >0.027</td>\n",
       "      <td id=\"T_2f395_row9_col1\" class=\"data row9 col1\" >0.49</td>\n",
       "      <td id=\"T_2f395_row9_col2\" class=\"data row9 col2\" >0.75</td>\n",
       "      <td id=\"T_2f395_row9_col3\" class=\"data row9 col3\" >0.47</td>\n",
       "      <td id=\"T_2f395_row9_col4\" class=\"data row9 col4\" >0.46</td>\n",
       "      <td id=\"T_2f395_row9_col5\" class=\"data row9 col5\" >0.54</td>\n",
       "      <td id=\"T_2f395_row9_col6\" class=\"data row9 col6\" >-0.034</td>\n",
       "      <td id=\"T_2f395_row9_col7\" class=\"data row9 col7\" >0.068</td>\n",
       "      <td id=\"T_2f395_row9_col8\" class=\"data row9 col8\" >0.93</td>\n",
       "      <td id=\"T_2f395_row9_col9\" class=\"data row9 col9\" >1.0</td>\n",
       "    </tr>\n",
       "  </tbody>\n",
       "</table>\n"
      ],
      "text/plain": [
       "<pandas.io.formats.style.Styler at 0x1a5104188e0>"
      ]
     },
     "execution_count": 107,
     "metadata": {},
     "output_type": "execute_result"
    }
   ],
   "source": [
    "df.corr(method='pearson').style.format(\"{:.2}\")"
   ]
  },
  {
   "cell_type": "code",
   "execution_count": 108,
   "id": "04aed28a-c384-40b4-abc5-bc63ae48ddba",
   "metadata": {},
   "outputs": [
    {
     "name": "stderr",
     "output_type": "stream",
     "text": [
      "C:\\Users\\dell\\AppData\\Local\\Temp\\ipykernel_15576\\621126171.py:1: FutureWarning: The default value of numeric_only in DataFrame.corr is deprecated. In a future version, it will default to False. Select only valid columns or specify the value of numeric_only to silence this warning.\n",
      "  sns.heatmap(df.corr(), annot=True)\n"
     ]
    },
    {
     "data": {
      "text/plain": [
       "<AxesSubplot: >"
      ]
     },
     "execution_count": 108,
     "metadata": {},
     "output_type": "execute_result"
    },
    {
     "data": {
      "image/png": "[encoded data removed]",
      "text/plain": [
       "<Figure size 432x288 with 2 Axes>"
      ]
     },
     "metadata": {
      "needs_background": "light"
     },
     "output_type": "display_data"
    }
   ],
   "source": [
    "sns.heatmap(df.corr(), annot=True)"
   ]
  },
  {
   "cell_type": "code",
   "execution_count": 109,
   "id": "7937b7f4-cf8c-4fd9-b157-b704dd3456bf",
   "metadata": {},
   "outputs": [
    {
     "name": "stderr",
     "output_type": "stream",
     "text": [
      "C:\\Users\\dell\\AppData\\Local\\Temp\\ipykernel_15576\\2523080898.py:1: FutureWarning: The default value of numeric_only in DataFrame.corr is deprecated. In a future version, it will default to False. Select only valid columns or specify the value of numeric_only to silence this warning.\n",
      "  df.corr(method='pearson').style.format(\"{:.2}\").background_gradient(cmap=plt.get_cmap('coolwarm'), axis=1)\n"
     ]
    },
    {
     "data": {
      "text/html": [
       "<style type=\"text/css\">\n",
       "#T_b9720_row0_col0, #T_b9720_row1_col1, #T_b9720_row2_col2, #T_b9720_row3_col3, #T_b9720_row4_col4, #T_b9720_row5_col5, #T_b9720_row6_col6, #T_b9720_row7_col7, #T_b9720_row8_col8, #T_b9720_row9_col9 {\n",
       "  background-color: #b40426;\n",
       "  color: #f1f1f1;\n",
       "}\n",
       "#T_b9720_row0_col1 {\n",
       "  background-color: #dfdbd9;\n",
       "  color: #000000;\n",
       "}\n",
       "#T_b9720_row0_col2 {\n",
       "  background-color: #97b8ff;\n",
       "  color: #000000;\n",
       "}\n",
       "#T_b9720_row0_col3, #T_b9720_row4_col0 {\n",
       "  background-color: #c3d5f4;\n",
       "  color: #000000;\n",
       "}\n",
       "#T_b9720_row0_col4, #T_b9720_row7_col9 {\n",
       "  background-color: #c4d5f3;\n",
       "  color: #000000;\n",
       "}\n",
       "#T_b9720_row0_col5 {\n",
       "  background-color: #c5d6f2;\n",
       "  color: #000000;\n",
       "}\n",
       "#T_b9720_row0_col6 {\n",
       "  background-color: #bed2f6;\n",
       "  color: #000000;\n",
       "}\n",
       "#T_b9720_row0_col7, #T_b9720_row1_col7, #T_b9720_row2_col7, #T_b9720_row3_col7, #T_b9720_row4_col7, #T_b9720_row5_col7, #T_b9720_row6_col7, #T_b9720_row7_col6, #T_b9720_row8_col7, #T_b9720_row9_col6 {\n",
       "  background-color: #3b4cc0;\n",
       "  color: #f1f1f1;\n",
       "}\n",
       "#T_b9720_row0_col8 {\n",
       "  background-color: #8db0fe;\n",
       "  color: #000000;\n",
       "}\n",
       "#T_b9720_row0_col9 {\n",
       "  background-color: #779af7;\n",
       "  color: #f1f1f1;\n",
       "}\n",
       "#T_b9720_row1_col0 {\n",
       "  background-color: #e2dad5;\n",
       "  color: #000000;\n",
       "}\n",
       "#T_b9720_row1_col2 {\n",
       "  background-color: #f6bda2;\n",
       "  color: #000000;\n",
       "}\n",
       "#T_b9720_row1_col3 {\n",
       "  background-color: #d75445;\n",
       "  color: #f1f1f1;\n",
       "}\n",
       "#T_b9720_row1_col4 {\n",
       "  background-color: #df634e;\n",
       "  color: #f1f1f1;\n",
       "}\n",
       "#T_b9720_row1_col5, #T_b9720_row2_col8, #T_b9720_row8_col2 {\n",
       "  background-color: #ca3b37;\n",
       "  color: #f1f1f1;\n",
       "}\n",
       "#T_b9720_row1_col6 {\n",
       "  background-color: #dcdddd;\n",
       "  color: #000000;\n",
       "}\n",
       "#T_b9720_row1_col8 {\n",
       "  background-color: #f6bea4;\n",
       "  color: #000000;\n",
       "}\n",
       "#T_b9720_row1_col9, #T_b9720_row8_col1 {\n",
       "  background-color: #f0cdbb;\n",
       "  color: #000000;\n",
       "}\n",
       "#T_b9720_row2_col0, #T_b9720_row2_col6 {\n",
       "  background-color: #85a8fc;\n",
       "  color: #f1f1f1;\n",
       "}\n",
       "#T_b9720_row2_col1, #T_b9720_row4_col8 {\n",
       "  background-color: #f3c7b1;\n",
       "  color: #000000;\n",
       "}\n",
       "#T_b9720_row2_col3, #T_b9720_row2_col4 {\n",
       "  background-color: #f1ccb8;\n",
       "  color: #000000;\n",
       "}\n",
       "#T_b9720_row2_col5 {\n",
       "  background-color: #f6a385;\n",
       "  color: #000000;\n",
       "}\n",
       "#T_b9720_row2_col9 {\n",
       "  background-color: #f18d6f;\n",
       "  color: #f1f1f1;\n",
       "}\n",
       "#T_b9720_row3_col0 {\n",
       "  background-color: #c0d4f5;\n",
       "  color: #000000;\n",
       "}\n",
       "#T_b9720_row3_col1 {\n",
       "  background-color: #d95847;\n",
       "  color: #f1f1f1;\n",
       "}\n",
       "#T_b9720_row3_col2 {\n",
       "  background-color: #f4c6af;\n",
       "  color: #000000;\n",
       "}\n",
       "#T_b9720_row3_col4, #T_b9720_row4_col3 {\n",
       "  background-color: #bd1f2d;\n",
       "  color: #f1f1f1;\n",
       "}\n",
       "#T_b9720_row3_col5 {\n",
       "  background-color: #e36b54;\n",
       "  color: #f1f1f1;\n",
       "}\n",
       "#T_b9720_row3_col6 {\n",
       "  background-color: #d4dbe6;\n",
       "  color: #000000;\n",
       "}\n",
       "#T_b9720_row3_col8 {\n",
       "  background-color: #f3c8b2;\n",
       "  color: #000000;\n",
       "}\n",
       "#T_b9720_row3_col9 {\n",
       "  background-color: #e9d5cb;\n",
       "  color: #000000;\n",
       "}\n",
       "#T_b9720_row4_col1 {\n",
       "  background-color: #e0654f;\n",
       "  color: #f1f1f1;\n",
       "}\n",
       "#T_b9720_row4_col2 {\n",
       "  background-color: #f4c5ad;\n",
       "  color: #000000;\n",
       "}\n",
       "#T_b9720_row4_col5 {\n",
       "  background-color: #ec7f63;\n",
       "  color: #f1f1f1;\n",
       "}\n",
       "#T_b9720_row4_col6 {\n",
       "  background-color: #d7dce3;\n",
       "  color: #000000;\n",
       "}\n",
       "#T_b9720_row4_col9, #T_b9720_row9_col5 {\n",
       "  background-color: #ead5c9;\n",
       "  color: #000000;\n",
       "}\n",
       "#T_b9720_row5_col0 {\n",
       "  background-color: #b5cdfa;\n",
       "  color: #000000;\n",
       "}\n",
       "#T_b9720_row5_col1, #T_b9720_row9_col8 {\n",
       "  background-color: #cc403a;\n",
       "  color: #f1f1f1;\n",
       "}\n",
       "#T_b9720_row5_col2 {\n",
       "  background-color: #f6a586;\n",
       "  color: #000000;\n",
       "}\n",
       "#T_b9720_row5_col3 {\n",
       "  background-color: #e57058;\n",
       "  color: #f1f1f1;\n",
       "}\n",
       "#T_b9720_row5_col4 {\n",
       "  background-color: #ee8669;\n",
       "  color: #f1f1f1;\n",
       "}\n",
       "#T_b9720_row5_col6, #T_b9720_row6_col9 {\n",
       "  background-color: #aec9fc;\n",
       "  color: #000000;\n",
       "}\n",
       "#T_b9720_row5_col8 {\n",
       "  background-color: #f7b194;\n",
       "  color: #000000;\n",
       "}\n",
       "#T_b9720_row5_col9 {\n",
       "  background-color: #efcfbf;\n",
       "  color: #000000;\n",
       "}\n",
       "#T_b9720_row6_col0 {\n",
       "  background-color: #e7d7ce;\n",
       "  color: #000000;\n",
       "}\n",
       "#T_b9720_row6_col1, #T_b9720_row6_col4 {\n",
       "  background-color: #f2c9b4;\n",
       "  color: #000000;\n",
       "}\n",
       "#T_b9720_row6_col2 {\n",
       "  background-color: #d1dae9;\n",
       "  color: #000000;\n",
       "}\n",
       "#T_b9720_row6_col3 {\n",
       "  background-color: #f2cab5;\n",
       "  color: #000000;\n",
       "}\n",
       "#T_b9720_row6_col5 {\n",
       "  background-color: #e8d6cc;\n",
       "  color: #000000;\n",
       "}\n",
       "#T_b9720_row6_col8 {\n",
       "  background-color: #c6d6f1;\n",
       "  color: #000000;\n",
       "}\n",
       "#T_b9720_row7_col0 {\n",
       "  background-color: #89acfd;\n",
       "  color: #000000;\n",
       "}\n",
       "#T_b9720_row7_col1 {\n",
       "  background-color: #82a6fb;\n",
       "  color: #f1f1f1;\n",
       "}\n",
       "#T_b9720_row7_col2 {\n",
       "  background-color: #9dbdff;\n",
       "  color: #000000;\n",
       "}\n",
       "#T_b9720_row7_col3 {\n",
       "  background-color: #8fb1fe;\n",
       "  color: #000000;\n",
       "}\n",
       "#T_b9720_row7_col4 {\n",
       "  background-color: #8badfd;\n",
       "  color: #000000;\n",
       "}\n",
       "#T_b9720_row7_col5 {\n",
       "  background-color: #9fbfff;\n",
       "  color: #000000;\n",
       "}\n",
       "#T_b9720_row7_col8 {\n",
       "  background-color: #aac7fd;\n",
       "  color: #000000;\n",
       "}\n",
       "#T_b9720_row8_col0 {\n",
       "  background-color: #688aef;\n",
       "  color: #f1f1f1;\n",
       "}\n",
       "#T_b9720_row8_col3 {\n",
       "  background-color: #ecd3c5;\n",
       "  color: #000000;\n",
       "}\n",
       "#T_b9720_row8_col4 {\n",
       "  background-color: #ebd3c6;\n",
       "  color: #000000;\n",
       "}\n",
       "#T_b9720_row8_col5 {\n",
       "  background-color: #f7b79b;\n",
       "  color: #000000;\n",
       "}\n",
       "#T_b9720_row8_col6 {\n",
       "  background-color: #6384eb;\n",
       "  color: #f1f1f1;\n",
       "}\n",
       "#T_b9720_row8_col9 {\n",
       "  background-color: #cb3e38;\n",
       "  color: #f1f1f1;\n",
       "}\n",
       "#T_b9720_row9_col0 {\n",
       "  background-color: #4c66d6;\n",
       "  color: #f1f1f1;\n",
       "}\n",
       "#T_b9720_row9_col1 {\n",
       "  background-color: #dedcdb;\n",
       "  color: #000000;\n",
       "}\n",
       "#T_b9720_row9_col2 {\n",
       "  background-color: #f39577;\n",
       "  color: #000000;\n",
       "}\n",
       "#T_b9720_row9_col3, #T_b9720_row9_col4 {\n",
       "  background-color: #d8dce2;\n",
       "  color: #000000;\n",
       "}\n",
       "#T_b9720_row9_col7 {\n",
       "  background-color: #5977e3;\n",
       "  color: #f1f1f1;\n",
       "}\n",
       "</style>\n",
       "<table id=\"T_b9720\">\n",
       "  <thead>\n",
       "    <tr>\n",
       "      <th class=\"blank level0\" >&nbsp;</th>\n",
       "      <th id=\"T_b9720_level0_col0\" class=\"col_heading level0 col0\" >Urate</th>\n",
       "      <th id=\"T_b9720_level0_col1\" class=\"col_heading level0 col1\" >Pop. 2021</th>\n",
       "      <th id=\"T_b9720_level0_col2\" class=\"col_heading level0 col2\" >PoliceReports</th>\n",
       "      <th id=\"T_b9720_level0_col3\" class=\"col_heading level0 col3\" >ViolentCrime</th>\n",
       "      <th id=\"T_b9720_level0_col4\" class=\"col_heading level0 col4\" >PropertyCrime</th>\n",
       "      <th id=\"T_b9720_level0_col5\" class=\"col_heading level0 col5\" >PrisonPopulation</th>\n",
       "      <th id=\"T_b9720_level0_col6\" class=\"col_heading level0 col6\" >Violentprison</th>\n",
       "      <th id=\"T_b9720_level0_col7\" class=\"col_heading level0 col7\" >PropertyPrison</th>\n",
       "      <th id=\"T_b9720_level0_col8\" class=\"col_heading level0 col8\" >PoliceReports_SQRT</th>\n",
       "      <th id=\"T_b9720_level0_col9\" class=\"col_heading level0 col9\" >PoliceReports_LOG</th>\n",
       "    </tr>\n",
       "  </thead>\n",
       "  <tbody>\n",
       "    <tr>\n",
       "      <th id=\"T_b9720_level0_row0\" class=\"row_heading level0 row0\" >Urate</th>\n",
       "      <td id=\"T_b9720_row0_col0\" class=\"data row0 col0\" >1.0</td>\n",
       "      <td id=\"T_b9720_row0_col1\" class=\"data row0 col1\" >0.41</td>\n",
       "      <td id=\"T_b9720_row0_col2\" class=\"data row0 col2\" >0.13</td>\n",
       "      <td id=\"T_b9720_row0_col3\" class=\"data row0 col3\" >0.29</td>\n",
       "      <td id=\"T_b9720_row0_col4\" class=\"data row0 col4\" >0.29</td>\n",
       "      <td id=\"T_b9720_row0_col5\" class=\"data row0 col5\" >0.3</td>\n",
       "      <td id=\"T_b9720_row0_col6\" class=\"data row0 col6\" >0.27</td>\n",
       "      <td id=\"T_b9720_row0_col7\" class=\"data row0 col7\" >-0.2</td>\n",
       "      <td id=\"T_b9720_row0_col8\" class=\"data row0 col8\" >0.1</td>\n",
       "      <td id=\"T_b9720_row0_col9\" class=\"data row0 col9\" >0.027</td>\n",
       "    </tr>\n",
       "    <tr>\n",
       "      <th id=\"T_b9720_level0_row1\" class=\"row_heading level0 row1\" >Pop. 2021</th>\n",
       "      <td id=\"T_b9720_row1_col0\" class=\"data row1 col0\" >0.41</td>\n",
       "      <td id=\"T_b9720_row1_col1\" class=\"data row1 col1\" >1.0</td>\n",
       "      <td id=\"T_b9720_row1_col2\" class=\"data row1 col2\" >0.57</td>\n",
       "      <td id=\"T_b9720_row1_col3\" class=\"data row1 col3\" >0.87</td>\n",
       "      <td id=\"T_b9720_row1_col4\" class=\"data row1 col4\" >0.84</td>\n",
       "      <td id=\"T_b9720_row1_col5\" class=\"data row1 col5\" >0.92</td>\n",
       "      <td id=\"T_b9720_row1_col6\" class=\"data row1 col6\" >0.38</td>\n",
       "      <td id=\"T_b9720_row1_col7\" class=\"data row1 col7\" >-0.23</td>\n",
       "      <td id=\"T_b9720_row1_col8\" class=\"data row1 col8\" >0.57</td>\n",
       "      <td id=\"T_b9720_row1_col9\" class=\"data row1 col9\" >0.49</td>\n",
       "    </tr>\n",
       "    <tr>\n",
       "      <th id=\"T_b9720_level0_row2\" class=\"row_heading level0 row2\" >PoliceReports</th>\n",
       "      <td id=\"T_b9720_row2_col0\" class=\"data row2 col0\" >0.13</td>\n",
       "      <td id=\"T_b9720_row2_col1\" class=\"data row2 col1\" >0.57</td>\n",
       "      <td id=\"T_b9720_row2_col2\" class=\"data row2 col2\" >1.0</td>\n",
       "      <td id=\"T_b9720_row2_col3\" class=\"data row2 col3\" >0.55</td>\n",
       "      <td id=\"T_b9720_row2_col4\" class=\"data row2 col4\" >0.55</td>\n",
       "      <td id=\"T_b9720_row2_col5\" class=\"data row2 col5\" >0.69</td>\n",
       "      <td id=\"T_b9720_row2_col6\" class=\"data row2 col6\" >0.14</td>\n",
       "      <td id=\"T_b9720_row2_col7\" class=\"data row2 col7\" >-0.12</td>\n",
       "      <td id=\"T_b9720_row2_col8\" class=\"data row2 col8\" >0.93</td>\n",
       "      <td id=\"T_b9720_row2_col9\" class=\"data row2 col9\" >0.75</td>\n",
       "    </tr>\n",
       "    <tr>\n",
       "      <th id=\"T_b9720_level0_row3\" class=\"row_heading level0 row3\" >ViolentCrime</th>\n",
       "      <td id=\"T_b9720_row3_col0\" class=\"data row3 col0\" >0.29</td>\n",
       "      <td id=\"T_b9720_row3_col1\" class=\"data row3 col1\" >0.87</td>\n",
       "      <td id=\"T_b9720_row3_col2\" class=\"data row3 col2\" >0.55</td>\n",
       "      <td id=\"T_b9720_row3_col3\" class=\"data row3 col3\" >1.0</td>\n",
       "      <td id=\"T_b9720_row3_col4\" class=\"data row3 col4\" >0.97</td>\n",
       "      <td id=\"T_b9720_row3_col5\" class=\"data row3 col5\" >0.83</td>\n",
       "      <td id=\"T_b9720_row3_col6\" class=\"data row3 col6\" >0.37</td>\n",
       "      <td id=\"T_b9720_row3_col7\" class=\"data row3 col7\" >-0.18</td>\n",
       "      <td id=\"T_b9720_row3_col8\" class=\"data row3 col8\" >0.54</td>\n",
       "      <td id=\"T_b9720_row3_col9\" class=\"data row3 col9\" >0.47</td>\n",
       "    </tr>\n",
       "    <tr>\n",
       "      <th id=\"T_b9720_level0_row4\" class=\"row_heading level0 row4\" >PropertyCrime</th>\n",
       "      <td id=\"T_b9720_row4_col0\" class=\"data row4 col0\" >0.29</td>\n",
       "      <td id=\"T_b9720_row4_col1\" class=\"data row4 col1\" >0.84</td>\n",
       "      <td id=\"T_b9720_row4_col2\" class=\"data row4 col2\" >0.55</td>\n",
       "      <td id=\"T_b9720_row4_col3\" class=\"data row4 col3\" >0.97</td>\n",
       "      <td id=\"T_b9720_row4_col4\" class=\"data row4 col4\" >1.0</td>\n",
       "      <td id=\"T_b9720_row4_col5\" class=\"data row4 col5\" >0.77</td>\n",
       "      <td id=\"T_b9720_row4_col6\" class=\"data row4 col6\" >0.38</td>\n",
       "      <td id=\"T_b9720_row4_col7\" class=\"data row4 col7\" >-0.2</td>\n",
       "      <td id=\"T_b9720_row4_col8\" class=\"data row4 col8\" >0.54</td>\n",
       "      <td id=\"T_b9720_row4_col9\" class=\"data row4 col9\" >0.46</td>\n",
       "    </tr>\n",
       "    <tr>\n",
       "      <th id=\"T_b9720_level0_row5\" class=\"row_heading level0 row5\" >PrisonPopulation</th>\n",
       "      <td id=\"T_b9720_row5_col0\" class=\"data row5 col0\" >0.3</td>\n",
       "      <td id=\"T_b9720_row5_col1\" class=\"data row5 col1\" >0.92</td>\n",
       "      <td id=\"T_b9720_row5_col2\" class=\"data row5 col2\" >0.69</td>\n",
       "      <td id=\"T_b9720_row5_col3\" class=\"data row5 col3\" >0.83</td>\n",
       "      <td id=\"T_b9720_row5_col4\" class=\"data row5 col4\" >0.77</td>\n",
       "      <td id=\"T_b9720_row5_col5\" class=\"data row5 col5\" >1.0</td>\n",
       "      <td id=\"T_b9720_row5_col6\" class=\"data row5 col6\" >0.28</td>\n",
       "      <td id=\"T_b9720_row5_col7\" class=\"data row5 col7\" >-0.1</td>\n",
       "      <td id=\"T_b9720_row5_col8\" class=\"data row5 col8\" >0.65</td>\n",
       "      <td id=\"T_b9720_row5_col9\" class=\"data row5 col9\" >0.54</td>\n",
       "    </tr>\n",
       "    <tr>\n",
       "      <th id=\"T_b9720_level0_row6\" class=\"row_heading level0 row6\" >Violentprison</th>\n",
       "      <td id=\"T_b9720_row6_col0\" class=\"data row6 col0\" >0.27</td>\n",
       "      <td id=\"T_b9720_row6_col1\" class=\"data row6 col1\" >0.38</td>\n",
       "      <td id=\"T_b9720_row6_col2\" class=\"data row6 col2\" >0.14</td>\n",
       "      <td id=\"T_b9720_row6_col3\" class=\"data row6 col3\" >0.37</td>\n",
       "      <td id=\"T_b9720_row6_col4\" class=\"data row6 col4\" >0.38</td>\n",
       "      <td id=\"T_b9720_row6_col5\" class=\"data row6 col5\" >0.28</td>\n",
       "      <td id=\"T_b9720_row6_col6\" class=\"data row6 col6\" >1.0</td>\n",
       "      <td id=\"T_b9720_row6_col7\" class=\"data row6 col7\" >-0.58</td>\n",
       "      <td id=\"T_b9720_row6_col8\" class=\"data row6 col8\" >0.084</td>\n",
       "      <td id=\"T_b9720_row6_col9\" class=\"data row6 col9\" >-0.034</td>\n",
       "    </tr>\n",
       "    <tr>\n",
       "      <th id=\"T_b9720_level0_row7\" class=\"row_heading level0 row7\" >PropertyPrison</th>\n",
       "      <td id=\"T_b9720_row7_col0\" class=\"data row7 col0\" >-0.2</td>\n",
       "      <td id=\"T_b9720_row7_col1\" class=\"data row7 col1\" >-0.23</td>\n",
       "      <td id=\"T_b9720_row7_col2\" class=\"data row7 col2\" >-0.12</td>\n",
       "      <td id=\"T_b9720_row7_col3\" class=\"data row7 col3\" >-0.18</td>\n",
       "      <td id=\"T_b9720_row7_col4\" class=\"data row7 col4\" >-0.2</td>\n",
       "      <td id=\"T_b9720_row7_col5\" class=\"data row7 col5\" >-0.1</td>\n",
       "      <td id=\"T_b9720_row7_col6\" class=\"data row7 col6\" >-0.58</td>\n",
       "      <td id=\"T_b9720_row7_col7\" class=\"data row7 col7\" >1.0</td>\n",
       "      <td id=\"T_b9720_row7_col8\" class=\"data row7 col8\" >-0.054</td>\n",
       "      <td id=\"T_b9720_row7_col9\" class=\"data row7 col9\" >0.068</td>\n",
       "    </tr>\n",
       "    <tr>\n",
       "      <th id=\"T_b9720_level0_row8\" class=\"row_heading level0 row8\" >PoliceReports_SQRT</th>\n",
       "      <td id=\"T_b9720_row8_col0\" class=\"data row8 col0\" >0.1</td>\n",
       "      <td id=\"T_b9720_row8_col1\" class=\"data row8 col1\" >0.57</td>\n",
       "      <td id=\"T_b9720_row8_col2\" class=\"data row8 col2\" >0.93</td>\n",
       "      <td id=\"T_b9720_row8_col3\" class=\"data row8 col3\" >0.54</td>\n",
       "      <td id=\"T_b9720_row8_col4\" class=\"data row8 col4\" >0.54</td>\n",
       "      <td id=\"T_b9720_row8_col5\" class=\"data row8 col5\" >0.65</td>\n",
       "      <td id=\"T_b9720_row8_col6\" class=\"data row8 col6\" >0.084</td>\n",
       "      <td id=\"T_b9720_row8_col7\" class=\"data row8 col7\" >-0.054</td>\n",
       "      <td id=\"T_b9720_row8_col8\" class=\"data row8 col8\" >1.0</td>\n",
       "      <td id=\"T_b9720_row8_col9\" class=\"data row8 col9\" >0.93</td>\n",
       "    </tr>\n",
       "    <tr>\n",
       "      <th id=\"T_b9720_level0_row9\" class=\"row_heading level0 row9\" >PoliceReports_LOG</th>\n",
       "      <td id=\"T_b9720_row9_col0\" class=\"data row9 col0\" >0.027</td>\n",
       "      <td id=\"T_b9720_row9_col1\" class=\"data row9 col1\" >0.49</td>\n",
       "      <td id=\"T_b9720_row9_col2\" class=\"data row9 col2\" >0.75</td>\n",
       "      <td id=\"T_b9720_row9_col3\" class=\"data row9 col3\" >0.47</td>\n",
       "      <td id=\"T_b9720_row9_col4\" class=\"data row9 col4\" >0.46</td>\n",
       "      <td id=\"T_b9720_row9_col5\" class=\"data row9 col5\" >0.54</td>\n",
       "      <td id=\"T_b9720_row9_col6\" class=\"data row9 col6\" >-0.034</td>\n",
       "      <td id=\"T_b9720_row9_col7\" class=\"data row9 col7\" >0.068</td>\n",
       "      <td id=\"T_b9720_row9_col8\" class=\"data row9 col8\" >0.93</td>\n",
       "      <td id=\"T_b9720_row9_col9\" class=\"data row9 col9\" >1.0</td>\n",
       "    </tr>\n",
       "  </tbody>\n",
       "</table>\n"
      ],
      "text/plain": [
       "<pandas.io.formats.style.Styler at 0x1a510485e10>"
      ]
     },
     "execution_count": 109,
     "metadata": {},
     "output_type": "execute_result"
    }
   ],
   "source": [
    "df.corr(method='pearson').style.format(\"{:.2}\").background_gradient(cmap=plt.get_cmap('coolwarm'), axis=1)"
   ]
  },
  {
   "cell_type": "markdown",
   "id": "a9f1c9f3-d8f3-4507-ae71-712dd6843ad8",
   "metadata": {},
   "source": [
    "## Question Two\n",
    "#### Does unemployment rate affect the correlation between police reports and prison rates?"
   ]
  },
  {
   "cell_type": "markdown",
   "id": "4dece2c3-1d0d-40b2-ac73-4ca0b5093de3",
   "metadata": {},
   "source": [
    "### Stepwise Liner Regression"
   ]
  },
  {
   "cell_type": "code",
   "execution_count": null,
   "id": "91289123-dc49-4bf2-8b4b-e08c4024f36c",
   "metadata": {},
   "outputs": [],
   "source": []
  }
 ],
 "metadata": {
  "kernelspec": {
   "display_name": "Python 3 (ipykernel)",
   "language": "python",
   "name": "python3"
  },
  "language_info": {
   "codemirror_mode": {
    "name": "ipython",
    "version": 3
   },
   "file_extension": ".py",
   "mimetype": "text/x-python",
   "name": "python",
   "nbconvert_exporter": "python",
   "pygments_lexer": "ipython3",
   "version": "3.10.5"
  },
  "widgets": {
   "application/vnd.jupyter.widget-state+json": {
    "state": {},
    "version_major": 2,
    "version_minor": 0
   }
  }
 },
 "nbformat": 4,
 "nbformat_minor": 5
}
