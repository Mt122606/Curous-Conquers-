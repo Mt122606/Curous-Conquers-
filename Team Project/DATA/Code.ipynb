{
 "cells": [
  {
   "cell_type": "code",
   "execution_count": 2,
   "id": "8aff2bc8-e906-450a-8fb8-dd69c142d62e",
   "metadata": {},
   "outputs": [],
   "source": [
    "import numpy as np\n",
    "import pandas as pd\n",
    "import seaborn as sns\n",
    "import scipy\n",
    "from scipy.stats import norm\n",
    "from scipy import stats\n",
    "from statsmodels.stats.proportion import proportions_ztest\n",
    "from statsmodels.stats.multicomp import pairwise_tukeyhsd\n",
    "from statsmodels.stats.multicomp import MultiComparison"
   ]
  },
  {
   "cell_type": "code",
   "execution_count": 10,
   "id": "66c517d1-dee3-4a16-8977-3fde59b62ad5",
   "metadata": {},
   "outputs": [],
   "source": [
    "crime_USA_2016 = pd.read_csv(\"crime_USA_2016.csv\")"
   ]
  },
  {
   "cell_type": "code",
   "execution_count": 11,
   "id": "2b7bdcbb-21c5-4455-8fbf-5f728e6f5630",
   "metadata": {},
   "outputs": [
    {
     "data": {
      "text/html": [
       "<div>\n",
       "<style scoped>\n",
       "    .dataframe tbody tr th:only-of-type {\n",
       "        vertical-align: middle;\n",
       "    }\n",
       "\n",
       "    .dataframe tbody tr th {\n",
       "        vertical-align: top;\n",
       "    }\n",
       "\n",
       "    .dataframe thead th {\n",
       "        text-align: right;\n",
       "    }\n",
       "</style>\n",
       "<table border=\"1\" class=\"dataframe\">\n",
       "  <thead>\n",
       "    <tr style=\"text-align: right;\">\n",
       "      <th></th>\n",
       "      <th>jurisdiction</th>\n",
       "      <th>prisoner_count</th>\n",
       "      <th>state_population</th>\n",
       "      <th>violent_crime_total</th>\n",
       "      <th>murder</th>\n",
       "      <th>rape</th>\n",
       "      <th>robbery</th>\n",
       "      <th>agg_assault</th>\n",
       "      <th>property_crime_total</th>\n",
       "      <th>burglary</th>\n",
       "      <th>vehicle_theft</th>\n",
       "      <th>Unnamed: 11</th>\n",
       "      <th>fips code</th>\n",
       "      <th>larceny</th>\n",
       "    </tr>\n",
       "  </thead>\n",
       "  <tbody>\n",
       "    <tr>\n",
       "      <th>0</th>\n",
       "      <td>ALABAMA</td>\n",
       "      <td>23745</td>\n",
       "      <td>4860545</td>\n",
       "      <td>25878</td>\n",
       "      <td>407</td>\n",
       "      <td>1915</td>\n",
       "      <td>4687</td>\n",
       "      <td>18869</td>\n",
       "      <td>143259</td>\n",
       "      <td>34045</td>\n",
       "      <td>11716</td>\n",
       "      <td>NaN</td>\n",
       "      <td>AL</td>\n",
       "      <td>97498</td>\n",
       "    </tr>\n",
       "    <tr>\n",
       "      <th>1</th>\n",
       "      <td>ALASKA</td>\n",
       "      <td>4378</td>\n",
       "      <td>741522</td>\n",
       "      <td>5966</td>\n",
       "      <td>52</td>\n",
       "      <td>1053</td>\n",
       "      <td>850</td>\n",
       "      <td>4011</td>\n",
       "      <td>24876</td>\n",
       "      <td>4053</td>\n",
       "      <td>3057</td>\n",
       "      <td>NaN</td>\n",
       "      <td>AK</td>\n",
       "      <td>17766</td>\n",
       "    </tr>\n",
       "    <tr>\n",
       "      <th>2</th>\n",
       "      <td>ARIZONA</td>\n",
       "      <td>42248</td>\n",
       "      <td>6908642</td>\n",
       "      <td>32542</td>\n",
       "      <td>389</td>\n",
       "      <td>3304</td>\n",
       "      <td>7045</td>\n",
       "      <td>21804</td>\n",
       "      <td>207317</td>\n",
       "      <td>38216</td>\n",
       "      <td>18483</td>\n",
       "      <td>NaN</td>\n",
       "      <td>AZ</td>\n",
       "      <td>150618</td>\n",
       "    </tr>\n",
       "    <tr>\n",
       "      <th>3</th>\n",
       "      <td>ARKANSAS</td>\n",
       "      <td>15833</td>\n",
       "      <td>2988231</td>\n",
       "      <td>16563</td>\n",
       "      <td>217</td>\n",
       "      <td>2214</td>\n",
       "      <td>2125</td>\n",
       "      <td>12007</td>\n",
       "      <td>98092</td>\n",
       "      <td>23814</td>\n",
       "      <td>7187</td>\n",
       "      <td>NaN</td>\n",
       "      <td>AR</td>\n",
       "      <td>67091</td>\n",
       "    </tr>\n",
       "    <tr>\n",
       "      <th>4</th>\n",
       "      <td>CALIFORNIA</td>\n",
       "      <td>129416</td>\n",
       "      <td>39296476</td>\n",
       "      <td>174796</td>\n",
       "      <td>1930</td>\n",
       "      <td>13702</td>\n",
       "      <td>54789</td>\n",
       "      <td>104375</td>\n",
       "      <td>1002070</td>\n",
       "      <td>188304</td>\n",
       "      <td>176756</td>\n",
       "      <td>NaN</td>\n",
       "      <td>CA</td>\n",
       "      <td>637010</td>\n",
       "    </tr>\n",
       "  </tbody>\n",
       "</table>\n",
       "</div>"
      ],
      "text/plain": [
       "  jurisdiction  prisoner_count  state_population  violent_crime_total  murder  \\\n",
       "0      ALABAMA           23745           4860545                25878     407   \n",
       "1       ALASKA            4378            741522                 5966      52   \n",
       "2      ARIZONA           42248           6908642                32542     389   \n",
       "3     ARKANSAS           15833           2988231                16563     217   \n",
       "4   CALIFORNIA          129416          39296476               174796    1930   \n",
       "\n",
       "    rape  robbery  agg_assault  property_crime_total  burglary  vehicle_theft  \\\n",
       "0   1915     4687        18869                143259     34045          11716   \n",
       "1   1053      850         4011                 24876      4053           3057   \n",
       "2   3304     7045        21804                207317     38216          18483   \n",
       "3   2214     2125        12007                 98092     23814           7187   \n",
       "4  13702    54789       104375               1002070    188304         176756   \n",
       "\n",
       "   Unnamed: 11 fips code  larceny  \n",
       "0          NaN        AL    97498  \n",
       "1          NaN        AK    17766  \n",
       "2          NaN        AZ   150618  \n",
       "3          NaN        AR    67091  \n",
       "4          NaN        CA   637010  "
      ]
     },
     "execution_count": 11,
     "metadata": {},
     "output_type": "execute_result"
    }
   ],
   "source": [
    "crime_USA_2016.head()"
   ]
  },
  {
   "cell_type": "code",
   "execution_count": 16,
   "id": "c0e023c2-f5bc-41ea-9fa3-25383d5bb468",
   "metadata": {},
   "outputs": [],
   "source": [
    "crime_USA_2016poppris=crime_USA_2016[['prisoner_count', 'state_population']]"
   ]
  },
  {
   "cell_type": "code",
   "execution_count": 19,
   "id": "6c283326-273d-4e6f-8ac9-2efb9d4af816",
   "metadata": {},
   "outputs": [],
   "source": [
    "x = crime_USA_2016[['state_population','violent_crime_total','murder','rape','robbery','agg_assault','property_crime_total','burglary','vehicle_theft' ,'larceny']]"
   ]
  },
  {
   "cell_type": "code",
   "execution_count": null,
   "id": "adf961fb-22e4-4607-a12b-ad5e977f4199",
   "metadata": {},
   "outputs": [],
   "source": [
    "y="
   ]
  },
  {
   "cell_type": "code",
   "execution_count": null,
   "id": "a1489fa2-b026-4495-a3d8-9f098607e13a",
   "metadata": {},
   "outputs": [],
   "source": []
  }
 ],
 "metadata": {
  "kernelspec": {
   "display_name": "Python 3 (ipykernel)",
   "language": "python",
   "name": "python3"
  },
  "language_info": {
   "codemirror_mode": {
    "name": "ipython",
    "version": 3
   },
   "file_extension": ".py",
   "mimetype": "text/x-python",
   "name": "python",
   "nbconvert_exporter": "python",
   "pygments_lexer": "ipython3",
   "version": "3.10.5"
  },
  "widgets": {
   "application/vnd.jupyter.widget-state+json": {
    "state": {},
    "version_major": 2,
    "version_minor": 0
   }
  }
 },
 "nbformat": 4,
 "nbformat_minor": 5
}
